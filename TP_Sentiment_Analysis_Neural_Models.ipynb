{
  "cells": [
    {
      "cell_type": "markdown",
      "metadata": {
        "id": "JfkpXKBIthcS"
      },
      "source": [
        "**ELMESSAI Chaima**"
      ]
    },
    {
      "cell_type": "markdown",
      "source": [
        "# Text classification with Pytorch\n",
        "\n",
        "The goal of this TP is double: an introduction to using Pytorch for treating textual data, and implementing neural classification models that we can apply to IMDB data - and then compare to models implemented in the previous TPs. "
      ],
      "metadata": {
        "id": "OP5hxPIPdJtK"
      }
    },
    {
      "cell_type": "code",
      "execution_count": null,
      "metadata": {
        "id": "FH7c_eMyte-D"
      },
      "outputs": [],
      "source": [
        "import torch\n",
        "import torch.nn as nn"
      ]
    },
    {
      "cell_type": "code",
      "execution_count": null,
      "metadata": {
        "colab": {
          "base_uri": "https://localhost:8080/"
        },
        "id": "w37nUP1S5hjw",
        "outputId": "225ea6f6-1b2c-452d-a761-17462d4b75aa"
      },
      "outputs": [
        {
          "name": "stdout",
          "output_type": "stream",
          "text": [
            "Looking in indexes: https://pypi.org/simple, https://us-python.pkg.dev/colab-wheels/public/simple/\n",
            "Collecting gensim==4.0.1\n",
            "  Downloading gensim-4.0.1-cp37-cp37m-manylinux1_x86_64.whl (23.9 MB)\n",
            "\u001b[K     |████████████████████████████████| 23.9 MB 281 kB/s \n",
            "\u001b[?25hRequirement already satisfied: numpy>=1.11.3 in /usr/local/lib/python3.7/dist-packages (from gensim==4.0.1) (1.21.6)\n",
            "Requirement already satisfied: smart-open>=1.8.1 in /usr/local/lib/python3.7/dist-packages (from gensim==4.0.1) (5.2.1)\n",
            "Requirement already satisfied: scipy>=0.18.1 in /usr/local/lib/python3.7/dist-packages (from gensim==4.0.1) (1.7.3)\n",
            "Installing collected packages: gensim\n",
            "  Attempting uninstall: gensim\n",
            "    Found existing installation: gensim 3.6.0\n",
            "    Uninstalling gensim-3.6.0:\n",
            "      Successfully uninstalled gensim-3.6.0\n",
            "Successfully installed gensim-4.0.1\n"
          ]
        }
      ],
      "source": [
        "!pip install gensim==4.0.1"
      ]
    },
    {
      "cell_type": "code",
      "execution_count": null,
      "metadata": {
        "colab": {
          "base_uri": "https://localhost:8080/"
        },
        "id": "Jsbaj_gk59F0",
        "outputId": "f3433474-ccce-411a-dfca-7a0e4393278a"
      },
      "outputs": [
        {
          "name": "stdout",
          "output_type": "stream",
          "text": [
            "Looking in indexes: https://pypi.org/simple, https://us-python.pkg.dev/colab-wheels/public/simple/\n",
            "Collecting python-Levenshtein\n",
            "  Downloading python_Levenshtein-0.20.8-py3-none-any.whl (9.4 kB)\n",
            "Collecting Levenshtein==0.20.8\n",
            "  Downloading Levenshtein-0.20.8-cp37-cp37m-manylinux_2_17_x86_64.manylinux2014_x86_64.whl (175 kB)\n",
            "\u001b[K     |████████████████████████████████| 175 kB 7.7 MB/s \n",
            "\u001b[?25hCollecting rapidfuzz<3.0.0,>=2.3.0\n",
            "  Downloading rapidfuzz-2.13.1-cp37-cp37m-manylinux_2_17_x86_64.manylinux2014_x86_64.whl (2.2 MB)\n",
            "\u001b[K     |████████████████████████████████| 2.2 MB 39.1 MB/s \n",
            "\u001b[?25hInstalling collected packages: rapidfuzz, Levenshtein, python-Levenshtein\n",
            "Successfully installed Levenshtein-0.20.8 python-Levenshtein-0.20.8 rapidfuzz-2.13.1\n"
          ]
        }
      ],
      "source": [
        "!pip install python-Levenshtein"
      ]
    },
    {
      "cell_type": "markdown",
      "metadata": {
        "id": "TG1Tv5TLtpjP"
      },
      "source": [
        "## 1 - A (very small) introduction to pytorch\n",
        "\n",
        "Pytorch Tensors are very similar to Numpy arrays, with the added benefit of being usable on GPU. For a short tutorial on various methods to create tensors of particular types, see [this link](https://pytorch.org/tutorials/beginner/blitz/tensor_tutorial.html#sphx-glr-beginner-blitz-tensor-tutorial-py).\n",
        "The important things to note are that Tensors can be created empty, from lists, and it is very easy to convert a numpy array into a pytorch tensor, and inversely."
      ]
    },
    {
      "cell_type": "code",
      "execution_count": null,
      "metadata": {
        "colab": {
          "base_uri": "https://localhost:8080/"
        },
        "id": "Mb3h3-OEtuHz",
        "outputId": "e505150e-2465-45bd-88d3-16f7764613e9"
      },
      "outputs": [
        {
          "output_type": "stream",
          "name": "stdout",
          "text": [
            "tensor([           51757120,                  27,          4294967295,\n",
            "        4908972153413002606, 7214836307739637349])\n",
            "tensor([5])\n"
          ]
        }
      ],
      "source": [
        "a = torch.LongTensor(5)\n",
        "b = torch.LongTensor([5])\n",
        "\n",
        "print(a)\n",
        "print(b)"
      ]
    },
    {
      "cell_type": "code",
      "execution_count": null,
      "metadata": {
        "colab": {
          "base_uri": "https://localhost:8080/"
        },
        "id": "EohavgcYtv6f",
        "outputId": "cb5e3892-9f02-4b71-eacd-ddaea351b247"
      },
      "outputs": [
        {
          "output_type": "stream",
          "name": "stdout",
          "text": [
            "tensor([5.])\n"
          ]
        }
      ],
      "source": [
        "a = torch.FloatTensor([2])\n",
        "b = torch.FloatTensor([3])\n",
        "\n",
        "print(a + b)"
      ]
    },
    {
      "cell_type": "markdown",
      "metadata": {
        "id": "AJ7gaHMpt0fV"
      },
      "source": [
        "The main interest in us using Pytorch is the ```autograd``` package. ```torch.Tensor```objects have an attribute ```.requires_grad```; if set as True, it starts to track all operations on it. When you finish your computation, can call ```.backward()``` and all the gradients are computed automatically (and stored in the ```.grad``` attribute).\n",
        "\n",
        "One way to easily cut a tensor from the computational once it is not needed anymore is to use ```.detach()```.\n",
        "More info on automatic differentiation in pytorch on [this link](https://pytorch.org/tutorials/beginner/blitz/autograd_tutorial.html#sphx-glr-beginner-blitz-autograd-tutorial-py).\n"
      ]
    },
    {
      "cell_type": "code",
      "execution_count": null,
      "metadata": {
        "colab": {
          "base_uri": "https://localhost:8080/"
        },
        "id": "DGHcybvEty-E",
        "outputId": "d543f6be-fa32-48a8-8c8d-137360650f77"
      },
      "outputs": [
        {
          "output_type": "stream",
          "name": "stdout",
          "text": [
            "tensor(2.)\n",
            "tensor(1.)\n",
            "tensor(1.)\n"
          ]
        }
      ],
      "source": [
        "x = torch.tensor(1., requires_grad=True)\n",
        "w = torch.tensor(2., requires_grad=True)\n",
        "b = torch.tensor(3., requires_grad=True)\n",
        "\n",
        "# Build a computational graph.\n",
        "y = w * x + b    # y = 2 * x + 3\n",
        "\n",
        "# Compute gradients.\n",
        "y.backward()\n",
        "\n",
        "# Print out the gradients.\n",
        "print(x.grad)    # x.grad = 2 \n",
        "print(w.grad)    # w.grad = 1 \n",
        "print(b.grad)    # b.grad = 1 "
      ]
    },
    {
      "cell_type": "code",
      "execution_count": null,
      "metadata": {
        "colab": {
          "base_uri": "https://localhost:8080/"
        },
        "id": "6b2WNPUetzA-",
        "outputId": "8d23c10f-91ae-4b07-d42e-ae9669c4c0f5"
      },
      "outputs": [
        {
          "output_type": "stream",
          "name": "stdout",
          "text": [
            "weight\n",
            "Parameter containing:\n",
            "tensor([[-0.4840,  0.4656,  0.4970],\n",
            "        [ 0.0633, -0.0761, -0.2510]], requires_grad=True)\n",
            "bias\n",
            "Parameter containing:\n",
            "tensor([-0.3906,  0.1842], requires_grad=True)\n",
            "Initial loss:  1.0280882120132446\n",
            "dL/dw:  tensor([[-0.1256,  0.2270,  0.5560],\n",
            "        [ 0.2234, -0.1686, -0.6797]])\n",
            "dL/db:  tensor([-0.5316,  0.4839])\n"
          ]
        }
      ],
      "source": [
        "x = torch.randn(10, 3)\n",
        "y = torch.randn(10, 2)\n",
        "\n",
        "# Build a fully connected layer.\n",
        "linear = nn.Linear(3, 2)\n",
        "for name, p in linear.named_parameters():\n",
        "    print(name)\n",
        "    print(p)\n",
        "\n",
        "# Build loss function - Mean Square Error\n",
        "criterion = nn.MSELoss()\n",
        "\n",
        "# Forward pass.\n",
        "pred = linear(x)\n",
        "\n",
        "# Compute loss.\n",
        "loss = criterion(pred, y)\n",
        "print('Initial loss: ', loss.item())\n",
        "\n",
        "# Backward pass.\n",
        "loss.backward()\n",
        "\n",
        "# Print out the gradients.\n",
        "print ('dL/dw: ', linear.weight.grad) \n",
        "print ('dL/db: ', linear.bias.grad)"
      ]
    },
    {
      "cell_type": "code",
      "execution_count": null,
      "metadata": {
        "colab": {
          "base_uri": "https://localhost:8080/"
        },
        "id": "aCZynIQFtzD0",
        "outputId": "e86685bd-0b64-459d-e365-9b406dd6c885"
      },
      "outputs": [
        {
          "output_type": "stream",
          "name": "stdout",
          "text": [
            "Loss after one update:  1.0138322114944458\n"
          ]
        }
      ],
      "source": [
        "# You can perform gradient descent manually, with an in-place update ...\n",
        "linear.weight.data.sub_(0.01 * linear.weight.grad.data)\n",
        "linear.bias.data.sub_(0.01 * linear.bias.grad.data)\n",
        "\n",
        "# Print out the loss after 1-step gradient descent.\n",
        "pred = linear(x)\n",
        "loss = criterion(pred, y)\n",
        "print('Loss after one update: ', loss.item())"
      ]
    },
    {
      "cell_type": "code",
      "execution_count": null,
      "metadata": {
        "colab": {
          "base_uri": "https://localhost:8080/"
        },
        "id": "RXaI-9Z9tzGt",
        "outputId": "607d0317-d90e-4642-d446-9ed538f17182"
      },
      "outputs": [
        {
          "output_type": "stream",
          "name": "stdout",
          "text": [
            "Loss after two updates:  0.9998909831047058\n"
          ]
        }
      ],
      "source": [
        "# Use the optim package to define an Optimizer that will update the weights of the model.\n",
        "optimizer = torch.optim.SGD(linear.parameters(), lr=0.01)\n",
        "\n",
        "# By default, gradients are accumulated in buffers( i.e, not overwritten) whenever .backward()\n",
        "# is called. Before the backward pass, we need to use the optimizer object to zero all of the\n",
        "# gradients.\n",
        "optimizer.zero_grad()\n",
        "loss.backward()\n",
        "\n",
        "# Calling the step function on an Optimizer makes an update to its parameters\n",
        "optimizer.step()\n",
        "\n",
        "# Print out the loss after the second step of gradient descent.\n",
        "pred = linear(x)\n",
        "loss = criterion(pred, y)\n",
        "print('Loss after two updates: ', loss.item())"
      ]
    },
    {
      "cell_type": "markdown",
      "metadata": {
        "id": "xjcyC09ct9Nn"
      },
      "source": [
        "## 2 - Tools for data processing \n",
        "\n",
        "```torch.utils.data.Dataset``` is an abstract class representing a dataset. Your custom dataset should inherit ```Dataset``` and override the following methods:\n",
        "- ```__len__``` so that ```len(dataset)``` returns the size of the dataset.\n",
        "- ```__getitem__``` to support the indexing such that ```dataset[i]``` can be used to get the i-th sample\n",
        "\n",
        "Here is a toy example: "
      ]
    },
    {
      "cell_type": "code",
      "execution_count": null,
      "metadata": {
        "id": "OAZi4yvpuAyG"
      },
      "outputs": [],
      "source": [
        "toy_corpus = ['I walked down down the boulevard',\n",
        "              'I walked down the avenue',\n",
        "              'I ran down the boulevard',\n",
        "              'I walk down the city',\n",
        "              'I walk down the the avenue']\n",
        "\n",
        "toy_categories = [0, 0, 1, 0, 0]"
      ]
    },
    {
      "cell_type": "code",
      "execution_count": null,
      "metadata": {
        "id": "I0s6D6VOuCNc"
      },
      "outputs": [],
      "source": [
        "from torch.utils.data import Dataset, DataLoader\n",
        "\n",
        "class CustomDataset(Dataset):\n",
        "    # A pytorch dataset class for holding data for a text classification task.\n",
        "    def __init__(self, data, categories):\n",
        "        # Upon creating the Dataset object, store the data in an attribute\n",
        "        # Split the text data and labels from each other\n",
        "        self.X, self.Y = [], []\n",
        "        for x, y in zip(data, categories):\n",
        "            # We will propably need to preprocess the data - have it done in a separate method\n",
        "            # We do it here because we might need corpus-wide info to do the preprocessing \n",
        "            # For example, cutting all examples to the same length\n",
        "            self.X.append(self.preprocess(x))\n",
        "            self.Y.append(y)\n",
        "                \n",
        "    # Method allowing you to preprocess data                      \n",
        "    def preprocess(self, text):\n",
        "        text_pp = text.lower().strip()\n",
        "        return text_pp\n",
        "    \n",
        "    # Overriding the method __len__ so that len(CustomDatasetName) returns the number of data samples                     \n",
        "    def __len__(self):\n",
        "        return len(self.Y)\n",
        "   \n",
        "    # Overriding the method __getitem__ so that CustomDatasetName[i] returns the i-th sample of the dataset                      \n",
        "    def __getitem__(self, idx):\n",
        "           return self.X[idx], self.Y[idx]"
      ]
    },
    {
      "cell_type": "code",
      "execution_count": null,
      "metadata": {
        "id": "cmjsfRZPuCQc"
      },
      "outputs": [],
      "source": [
        "toy_dataset = CustomDataset(toy_corpus, toy_categories)"
      ]
    },
    {
      "cell_type": "code",
      "execution_count": null,
      "metadata": {
        "colab": {
          "base_uri": "https://localhost:8080/"
        },
        "id": "pxyTBFp6uGaL",
        "outputId": "37181ff2-ffb1-4591-950d-d6edc02e4c14"
      },
      "outputs": [
        {
          "name": "stdout",
          "output_type": "stream",
          "text": [
            "5\n",
            "('i walked down down the boulevard', 0)\n",
            "('i walked down the avenue', 0)\n",
            "('i ran down the boulevard', 1)\n",
            "('i walk down the city', 0)\n",
            "('i walk down the the avenue', 0)\n"
          ]
        }
      ],
      "source": [
        "print(len(toy_dataset))\n",
        "for i in range(len(toy_dataset)):\n",
        "    print(toy_dataset[i])"
      ]
    },
    {
      "cell_type": "markdown",
      "metadata": {
        "id": "BdtlHKpJuKwY"
      },
      "source": [
        "```torch.utils.data.DataLoader``` is what we call an iterator, which provides very useful features:\n",
        "- Batching the data\n",
        "- Shuffling the data\n",
        "- Load the data in parallel using multiprocessing workers.\n",
        "and can be created very simply from a ```Dataset```. Continuing on our simple example: "
      ]
    },
    {
      "cell_type": "code",
      "execution_count": null,
      "metadata": {
        "id": "WAk7_20auGdJ"
      },
      "outputs": [],
      "source": [
        "toy_dataloader = DataLoader(toy_dataset, batch_size = 2, shuffle = True)"
      ]
    },
    {
      "cell_type": "code",
      "execution_count": null,
      "metadata": {
        "colab": {
          "base_uri": "https://localhost:8080/"
        },
        "id": "oTvn7nmZuGgE",
        "outputId": "ae374956-0534-4791-ce6c-4603c9aa4ba5"
      },
      "outputs": [
        {
          "name": "stdout",
          "output_type": "stream",
          "text": [
            "Epoch:0\n",
            "Batch: ('i walk down the city', 'i ran down the boulevard'); labels: tensor([0, 1])\n",
            "Batch: ('i walked down down the boulevard', 'i walk down the the avenue'); labels: tensor([0, 0])\n",
            "Batch: ('i walked down the avenue',); labels: tensor([0])\n",
            "Epoch:1\n",
            "Batch: ('i walk down the city', 'i walked down down the boulevard'); labels: tensor([0, 0])\n",
            "Batch: ('i ran down the boulevard', 'i walked down the avenue'); labels: tensor([1, 0])\n",
            "Batch: ('i walk down the the avenue',); labels: tensor([0])\n",
            "Epoch:2\n",
            "Batch: ('i walk down the the avenue', 'i walked down down the boulevard'); labels: tensor([0, 0])\n",
            "Batch: ('i ran down the boulevard', 'i walk down the city'); labels: tensor([1, 0])\n",
            "Batch: ('i walked down the avenue',); labels: tensor([0])\n"
          ]
        }
      ],
      "source": [
        "for e in range(3):\n",
        "    print(\"Epoch:\" + str(e))\n",
        "    for x, y in toy_dataloader:\n",
        "        print(\"Batch: \" + str(x) + \"; labels: \" + str(y))  "
      ]
    },
    {
      "cell_type": "markdown",
      "metadata": {
        "id": "7lgbEZpbuQLN"
      },
      "source": [
        "## 3 - Data processing of a text dataset\n",
        "\n",
        "Now, we would like to apply what we saw to our case, and **create a specific class** ```TextClassificationDataset``` **inheriting** ```Dataset``` that will:\n",
        "- Create a vocabulary from the data (use what we saw in the previous TP)\n",
        "- Preprocess the data using this vocabulary, adding whatever we need for our pytorch model\n",
        "- Have a ```__getitem__``` method that allows us to use the class with a ```Dataloader``` to easily build batches."
      ]
    },
    {
      "cell_type": "code",
      "execution_count": null,
      "metadata": {
        "id": "LXMyhHSfuGl4"
      },
      "outputs": [],
      "source": [
        "import os\n",
        "import sys\n",
        "import os.path as op\n",
        "from torch.nn import functional as F\n",
        "import numpy as np\n",
        "import random\n",
        "\n",
        "from nltk import word_tokenize\n",
        "from torch.nn.utils.rnn import pad_sequence"
      ]
    },
    {
      "cell_type": "markdown",
      "metadata": {
        "id": "brvWrFAHvfzX"
      },
      "source": [
        "First, we get the filenames and the corresponding categories: "
      ]
    },
    {
      "cell_type": "code",
      "execution_count": null,
      "metadata": {
        "colab": {
          "base_uri": "https://localhost:8080/"
        },
        "id": "WWrPRszpuGoY",
        "outputId": "8a020dad-b7ab-4495-f2f6-e00e878a3f2c"
      },
      "outputs": [
        {
          "output_type": "stream",
          "name": "stderr",
          "text": [
            "Downloading...\n",
            "From: http://ai.stanford.edu/~amaas/data/sentiment/aclImdb_v1.tar.gz\n",
            "To: /content/aclImdb_v1.tar.gz\n",
            "100%|██████████| 84.1M/84.1M [00:08<00:00, 9.42MB/s]\n"
          ]
        }
      ],
      "source": [
        "# For those on google colab: you can download the files directly with this:\n",
        "import gdown\n",
        "gdown.download(\"http://ai.stanford.edu/~amaas/data/sentiment/aclImdb_v1.tar.gz\", output=\"aclImdb_v1.tar.gz\", quiet=False)\n",
        "!tar xzf /content/aclImdb_v1.tar.gz"
      ]
    },
    {
      "cell_type": "code",
      "execution_count": null,
      "metadata": {
        "colab": {
          "base_uri": "https://localhost:8080/"
        },
        "id": "zWxaPdQjuGrm",
        "outputId": "cf2c8900-b86e-4bcf-cde1-fe37ba997101"
      },
      "outputs": [
        {
          "output_type": "stream",
          "name": "stderr",
          "text": [
            "/usr/local/lib/python3.7/dist-packages/ipykernel_launcher.py:25: DeprecationWarning: `np.int` is a deprecated alias for the builtin `int`. To silence this warning, use `int` by itself. Doing this will not modify any behavior and is safe. When replacing `np.int`, you may wish to use e.g. `np.int64` or `np.int32` to specify the precision. If you wish to review your current use, check the release note link for additional information.\n",
            "Deprecated in NumPy 1.20; for more details and guidance: https://numpy.org/devdocs/release/1.20.0-notes.html#deprecations\n"
          ]
        }
      ],
      "source": [
        "from glob import glob\n",
        "# We get the files from the path: ./aclImdb/train/neg for negative reviews, and ./aclImdb/train/pos for positive reviews\n",
        "train_filenames_neg = sorted(glob(op.join('.', 'aclImdb', 'train', 'neg', '*.txt')))\n",
        "train_filenames_pos = sorted(glob(op.join('.', 'aclImdb', 'train', 'pos', '*.txt')))\n",
        "\n",
        "test_filenames_neg = sorted(glob(op.join('.', 'aclImdb', 'test', 'neg', '*.txt')))\n",
        "test_filenames_pos = sorted(glob(op.join('.', 'aclImdb', 'test', 'pos', '*.txt')))\n",
        "\n",
        "# Each files contains a review that consists in one line of text: we put this string in two lists, that we concatenate\n",
        "train_texts_neg = [open(f, encoding=\"utf8\").read() for f in train_filenames_neg]\n",
        "train_texts_pos = [open(f, encoding=\"utf8\").read() for f in train_filenames_pos]\n",
        "train_texts = train_texts_neg + train_texts_pos\n",
        "\n",
        "test_texts_neg = [open(f, encoding=\"utf8\").read() for f in test_filenames_neg]\n",
        "test_texts_pos = [open(f, encoding=\"utf8\").read() for f in test_filenames_pos]\n",
        "test_texts = test_texts_neg + test_texts_pos\n",
        "\n",
        "\n",
        "# The first half of the elements of the list are string of negative reviews, and the second half positive ones\n",
        "# We create the labels, as an array of [1,len(texts)], filled with 1, and change the first half to 0\n",
        "train_labels = np.ones(len(train_texts), dtype=int)\n",
        "train_labels[:len(train_texts_neg)] = 0.\n",
        "\n",
        "\n",
        "test_labels = np.ones(len(test_texts), dtype=np.int)\n",
        "test_labels[:len(test_texts_neg)] = 0."
      ]
    },
    {
      "cell_type": "markdown",
      "metadata": {
        "id": "g2F1biXNv62G"
      },
      "source": [
        "Example of one document:"
      ]
    },
    {
      "cell_type": "code",
      "execution_count": null,
      "metadata": {
        "colab": {
          "base_uri": "https://localhost:8080/",
          "height": 105
        },
        "id": "2XL0ZBz_uCTX",
        "outputId": "f646994b-2d6e-49e7-dd88-4e9e40d7ea3a"
      },
      "outputs": [
        {
          "output_type": "execute_result",
          "data": {
            "text/plain": [
              "\"Story of a man who has unnatural feelings for a pig. Starts out with a opening scene that is a terrific example of absurd comedy. A formal orchestra audience is turned into an insane, violent mob by the crazy chantings of it's singers. Unfortunately it stays absurd the WHOLE time with no general narrative eventually making it just too off putting. Even those from the era should be turned off. The cryptic dialogue would make Shakespeare seem easy to a third grader. On a technical level it's better than you might think with some good cinematography by future great Vilmos Zsigmond. Future stars Sally Kirkland and Frederic Forrest can be seen briefly.\""
            ],
            "application/vnd.google.colaboratory.intrinsic+json": {
              "type": "string"
            }
          },
          "metadata": {},
          "execution_count": 18
        }
      ],
      "source": [
        "open(\"./aclImdb/train/neg/0_3.txt\", encoding=\"utf8\").read()"
      ]
    },
    {
      "cell_type": "markdown",
      "metadata": {
        "id": "Mad2WjyxwIp_"
      },
      "source": [
        "We can use a function from sklearn, ```train_test_split```, to separate data into training and validation sets:\n",
        "\n"
      ]
    },
    {
      "cell_type": "code",
      "execution_count": null,
      "metadata": {
        "id": "5VXYzolvv79h"
      },
      "outputs": [],
      "source": [
        "from sklearn.model_selection import train_test_split"
      ]
    },
    {
      "cell_type": "code",
      "execution_count": null,
      "metadata": {
        "id": "lOZxlsdHwW8s"
      },
      "outputs": [],
      "source": [
        "train_texts_splt, val_texts, train_labels_splt, val_labels = train_test_split(train_texts, train_labels, test_size=.2)"
      ]
    },
    {
      "cell_type": "markdown",
      "metadata": {
        "id": "fTuq86F_w38k"
      },
      "source": [
        "We can now implement our ```TextClassificationDataset``` class, that we will build from:\n",
        "- A list of path to the IMDB files in the training set: ```path_to_file```\n",
        "- A list of the corresponding categories: ```categories```\n",
        "We will add three optional arguments:\n",
        "- First, a way to input a vocabulary (so that we can re-use the training vocabulary on the validation and training ```TextClassificationDataset```). By default, the value of the argument is ```None```.\n",
        "- In order to work with batches, we will need to have sequences of the same size. That can be done via **padding** but we will still need to limit the size of documents (to avoid having batches of huge sequences that are mostly empty because of one very long documents) to a ```max_length```. Let's put it to 100 by default.\n",
        "- Lastly, a ```min_freq``` that indicates how many times a word must appear to be taken in the vocabulary. "
      ]
    },
    {
      "cell_type": "markdown",
      "metadata": {
        "id": "uEv4BW4ow6Qe"
      },
      "source": [
        "The idea behind **padding** is to transform a list of pytorch tensors (of maybe different length) into a two dimensional tensor - which we can see as a batch. The size of the first dimension is the one of the longest tensor - and other are **padded** with a chosen symbol: here, we choose 0. "
      ]
    },
    {
      "cell_type": "code",
      "execution_count": null,
      "metadata": {
        "id": "5HvjckX8wW_Y"
      },
      "outputs": [],
      "source": [
        "tensor_1 = torch.LongTensor([1, 4, 5])\n",
        "tensor_2 = torch.LongTensor([2])\n",
        "tensor_3 = torch.LongTensor([6, 7])"
      ]
    },
    {
      "cell_type": "code",
      "execution_count": null,
      "metadata": {
        "colab": {
          "base_uri": "https://localhost:8080/"
        },
        "id": "1TkfZxx6w9E-",
        "outputId": "e3ce9641-5a6c-4c15-8d6d-300b70081c10"
      },
      "outputs": [
        {
          "name": "stdout",
          "output_type": "stream",
          "text": [
            "tensor([[1, 4, 5],\n",
            "        [2, 0, 0],\n",
            "        [6, 7, 0]])\n"
          ]
        }
      ],
      "source": [
        "tensor_padded = pad_sequence([tensor_1, tensor_2, tensor_3], batch_first=True, padding_value = 0)\n",
        "print(tensor_padded)"
      ]
    },
    {
      "cell_type": "markdown",
      "metadata": {
        "id": "4ktldvYSdUdX"
      },
      "source": [
        "<div class='alert alert-block alert-info'>\n",
        "            Code:</div>"
      ]
    },
    {
      "cell_type": "code",
      "execution_count": null,
      "metadata": {
        "id": "o1n5H6RUw9H2"
      },
      "outputs": [],
      "source": [
        "class TextClassificationDataset(Dataset):\n",
        "    def __init__(self, data, categories, vocab = None, max_length = 100, min_freq = 5):\n",
        "        self.data = data      \n",
        "        # Set the maximum length we will keep for the sequences\n",
        "        self.max_length = max_length\n",
        "        \n",
        "        # Allow to import a vocabulary (for valid/test datasets, that will use the training vocabulary)\n",
        "        if vocab is not None:\n",
        "            self.word2idx, self.idx2word = vocab\n",
        "        else:\n",
        "            # If no vocabulary imported, build it (and reverse)\n",
        "            self.word2idx, self.idx2word = self.build_vocab(self.data, min_freq)\n",
        "        \n",
        "        # We then need to tokenize the data .. \n",
        "        tokenized_data= [word_tokenize(sequence) for sequence in data] # To complete\n",
        "        # Transform words into lists of indexes ... (use the .get() method to redirect unknown words to the UNK token)\n",
        "        indexed_data = [[self.word2idx.get(word,self.word2idx['UNK']) for word in tokenized_seq]for tokenized_seq in tokenized_data]# To complete\n",
        "        # And transform this list of lists into a list of Pytorch LongTensors\n",
        "        tensor_data = [torch.LongTensor(sequence) for sequence in indexed_data]# To complete\n",
        "        # And the categories into a FloatTensor\n",
        "        tensor_y = torch.FloatTensor(categories) # To complete\n",
        "        # To finally cut it when it's above the maximum length\n",
        "        cut_tensor_data = [tensor_seq[:max_length] for tensor_seq in tensor_data]# To complete\n",
        "        \n",
        "        # Now, we need to use the pad_sequence function to have the whole dataset represented as one tensor,\n",
        "        # containing sequences of the same length. We choose the padding_value to be 0, the we want the\n",
        "        # batch dimension to be the first dimension \n",
        "        self.tensor_data = pad_sequence(cut_tensor_data, batch_first=True, padding_value = 0)# To complete\n",
        "        self.tensor_y = tensor_y\n",
        "        \n",
        "    def __len__(self):\n",
        "        return len(self.data)\n",
        "\n",
        "    def __getitem__(self, idx):\n",
        "        # The iterator just gets one particular example with its category\n",
        "        # The dataloader will take care of the shuffling and batching\n",
        "        if torch.is_tensor(idx):\n",
        "            idx = idx.tolist()\n",
        "        return self.tensor_data[idx], self.tensor_y[idx] \n",
        "    \n",
        "    def build_vocab(self, corpus, count_threshold):\n",
        "        \"\"\"\n",
        "        Same as in the previous TP: we want to output word_index, a dictionary containing words \n",
        "        and their corresponding indexes as {word : indexes} \n",
        "        But we also want the reverse, which is a dictionary {indexes: word}\n",
        "        Don't forget to add a UNK token that we need when encountering unknown words\n",
        "        We also choose '0' to represent the padding index, so begin the vocabulary index at 1 ! \n",
        "        \"\"\"\n",
        "        # To complete\n",
        "        word_counts = {}\n",
        "        for text in corpus:\n",
        "          for word in word_tokenize(text):\n",
        "            if word in word_counts:\n",
        "              word_counts[word]+=1\n",
        "            else:\n",
        "              word_counts[word]=1\n",
        "        dict_word_counts={k:v for k,v in word_counts.items() if v>=count_threshold}\n",
        "        filtered_word_list = sorted(dict_word_counts.keys(),key=word_counts.get, reverse=True)\n",
        "        word_index = {w:i+1 for i,w in enumerate(filtered_word_list)}\n",
        "        word_index['<PAD>']=0 \n",
        "        word_index['UNK']=len(word_index)\n",
        "        idx_word={v:k for k,v in word_index.items()}\n",
        "        # To complete\n",
        "        return word_index, idx_word\n",
        "        return word_index, idx_word\n",
        "    \n",
        "    def get_vocab(self):\n",
        "        # A simple way to get the training vocab when building the valid/test \n",
        "        return self.word2idx, self.idx2word"
      ]
    },
    {
      "cell_type": "code",
      "execution_count": null,
      "metadata": {
        "colab": {
          "base_uri": "https://localhost:8080/"
        },
        "id": "CM0NsS3DzYmI",
        "outputId": "d9ada27f-fa10-48bd-aeec-38f26c40ab74"
      },
      "outputs": [
        {
          "output_type": "stream",
          "name": "stderr",
          "text": [
            "[nltk_data] Downloading package punkt to /root/nltk_data...\n",
            "[nltk_data]   Package punkt is already up-to-date!\n"
          ]
        },
        {
          "output_type": "execute_result",
          "data": {
            "text/plain": [
              "True"
            ]
          },
          "metadata": {},
          "execution_count": 22
        }
      ],
      "source": [
        "import nltk\n",
        "nltk.download('punkt')"
      ]
    },
    {
      "cell_type": "code",
      "execution_count": null,
      "metadata": {
        "id": "QwA5Jxm3w9Kw"
      },
      "outputs": [],
      "source": [
        "training_dataset = TextClassificationDataset(train_texts_splt, train_labels_splt)\n",
        "training_word2idx, training_idx2word = training_dataset.get_vocab()"
      ]
    },
    {
      "cell_type": "code",
      "execution_count": null,
      "metadata": {
        "id": "HBD-W4fzw9NR"
      },
      "outputs": [],
      "source": [
        "valid_dataset = TextClassificationDataset(val_texts, val_labels, (training_word2idx, training_idx2word))"
      ]
    },
    {
      "cell_type": "code",
      "execution_count": null,
      "metadata": {
        "id": "n3ei2xd6JnvS"
      },
      "outputs": [],
      "source": [
        "test_dataset = TextClassificationDataset(test_texts, test_labels, (training_word2idx, training_idx2word))"
      ]
    },
    {
      "cell_type": "code",
      "execution_count": null,
      "metadata": {
        "id": "FvWlJpbRw9Pt"
      },
      "outputs": [],
      "source": [
        "training_dataloader = DataLoader(training_dataset, batch_size = 200, shuffle=True)\n",
        "valid_dataloader = DataLoader(valid_dataset, batch_size = 25)\n",
        "test_dataloader = DataLoader(test_dataset, batch_size = 25)"
      ]
    },
    {
      "cell_type": "code",
      "execution_count": null,
      "metadata": {
        "colab": {
          "base_uri": "https://localhost:8080/"
        },
        "id": "LidGZUp-w9SN",
        "outputId": "4dad7ca4-ed53-41c8-b1fd-7595860d0021"
      },
      "outputs": [
        {
          "name": "stdout",
          "output_type": "stream",
          "text": [
            "(tensor([   60,     8,     4,   726,     2,  6808,     2,  2548,     2, 16171,\n",
            "           25,     3,   155,    67,     8,   163,     4,   174,    21,    31,\n",
            "         2907,   230,    29,   508,     2,    18,    25,     8,    15,     3,\n",
            "           14,   633,     7,    97,  1766,     5,   705,    67,    19,   323,\n",
            "          347,   173,    15,    22,    84,     2,     5,    15,  1205,    53,\n",
            "            4,   131,    40,    14,   167,   187,     7,    36,     7,    82,\n",
            "           18,    25,   201,  2695,   239,   186,    14,   259,    14,    78,\n",
            "          405,    15,     3,   155,    33,   195,     1,   264,     6,   419,\n",
            "           46,  1216,    31,   331, 21364,   555,  5119,    29,     5,   128,\n",
            "           42,  7301,     2,    55,    76,    33,    59,     4,   190,     6]), tensor(1.))\n"
          ]
        }
      ],
      "source": [
        "print(valid_dataset[1])"
      ]
    },
    {
      "cell_type": "code",
      "execution_count": null,
      "metadata": {
        "colab": {
          "base_uri": "https://localhost:8080/"
        },
        "id": "891JXUwPw9Ux",
        "outputId": "e1076aa4-7fa9-4e02-a162-47e86a4b70fe"
      },
      "outputs": [
        {
          "name": "stdout",
          "output_type": "stream",
          "text": [
            "torch.Size([200, 100])\n",
            "torch.Size([200])\n"
          ]
        }
      ],
      "source": [
        "example_batch = next(iter(training_dataloader))\n",
        "print(example_batch[0].size())\n",
        "print(example_batch[1].size())"
      ]
    },
    {
      "cell_type": "markdown",
      "metadata": {
        "id": "7n9XkuTs0GKT"
      },
      "source": [
        "### 4 - A simple averaging model\n",
        "\n",
        "Now, we will implement in Pytorch what we did in the previous TP: a simple averaging model. For each model we will implement, we need to create a class which inherits from ```nn.Module``` and redifine the ```__init__``` method as well as the ```forward``` method."
      ]
    },
    {
      "cell_type": "markdown",
      "metadata": {
        "id": "-VIh9ZsNdUdZ"
      },
      "source": [
        "<div class='alert alert-block alert-info'>\n",
        "            Code:</div>"
      ]
    },
    {
      "cell_type": "code",
      "execution_count": null,
      "metadata": {
        "id": "wCmyWWQq0LDS"
      },
      "outputs": [],
      "source": [
        "# Models are usually implemented as custom nn.Module subclass\n",
        "# We need to redefine the __init__ method, which creates the object\n",
        "# We also need to redefine the forward method, which transform the input into outputs\n",
        "\n",
        "class AveragingModel(nn.Module):    \n",
        "    def __init__(self, embedding_dim, vocabulary_size):\n",
        "        super().__init__()\n",
        "        # Create an embedding object. Be careful to padding - you need to increase the vocabulary size by one !\n",
        "        # Look into the arguments of the nn.Embedding class\n",
        "        self.embeddings = nn.Embedding(num_embeddings=vocabulary_size,embedding_dim=embedding_dim,padding_idx=0) # To complete\n",
        "        # Create a linear layer that will transform the mean of the embeddings into a classification score\n",
        "        self.linear = nn.Linear(in_features=embedding_dim, out_features=1) # To complete\n",
        "        \n",
        "        # No need for sigmoid, it will be into the criterion ! \n",
        "        \n",
        "    def forward(self, inputs):\n",
        "        # Remember: the inpts are written as Batch_size * seq_length * embedding_dim\n",
        "        # First, take the mean of the embeddings of the document\n",
        "        x = torch.mean(self.embeddings(inputs),dim=1) # To complete\n",
        "        # Then make it go through the linear layer and remove the extra dimension with the method .squeeze()\n",
        "        o = self.linear(x).squeeze()# To complete\n",
        "        return o"
      ]
    },
    {
      "cell_type": "code",
      "execution_count": null,
      "metadata": {
        "id": "5VH2C2rE0FR_"
      },
      "outputs": [],
      "source": [
        "import torch.optim as optim"
      ]
    },
    {
      "cell_type": "code",
      "execution_count": null,
      "metadata": {
        "id": "wZp4RDMW0LGX"
      },
      "outputs": [],
      "source": [
        "model = AveragingModel(300, len(training_word2idx))\n",
        "# Create an optimizer\n",
        "opt = optim.Adam(model.parameters(), lr=0.0025, betas=(0.9, 0.999))\n",
        "# The criterion is a binary cross entropy loss based on logits - meaning that the sigmoid is integrated into the criterion\n",
        "criterion = nn.BCEWithLogitsLoss()"
      ]
    },
    {
      "cell_type": "markdown",
      "metadata": {
        "id": "lt_3WJmCdUda"
      },
      "source": [
        "<div class='alert alert-block alert-info'>\n",
        "            Code:</div>"
      ]
    },
    {
      "cell_type": "code",
      "execution_count": null,
      "metadata": {
        "id": "JM9MFRVQ0LJh"
      },
      "outputs": [],
      "source": [
        "# Implement a training function, which will train the model with the corresponding optimizer and criterion,\n",
        "# with the appropriate dataloader, for one epoch.\n",
        "\n",
        "def train_epoch(model, opt, criterion, dataloader):\n",
        "    model.train()\n",
        "    losses = []\n",
        "    for i, (x, y) in enumerate(dataloader):\n",
        "        opt.zero_grad()\n",
        "        # (1) Forward\n",
        "        pred = model(x)# To complete\n",
        "        # (2) Compute the loss \n",
        "        loss = criterion(pred,y)# To complete\n",
        "        # (3) Compute gradients with the criterion\n",
        "        # To complete\n",
        "        loss.backward()\n",
        "        # (4) Update weights with the optimizer\n",
        "        # To complete \n",
        "        opt.step()      \n",
        "        losses.append(loss.item())\n",
        "        # Count the number of correct predictions in the batch - here, you'll need to use the sigmoid\n",
        "        num_corrects = torch.sum((nn.Sigmoid()(pred)>0.5)==y)# To complete\n",
        "        acc = 100.0 * num_corrects/len(y)\n",
        "        \n",
        "        if (i%20 == 0):\n",
        "            print(\"Batch \" + str(i) + \" : training loss = \" + str(loss.item()) + \"; training acc = \" + str(acc.item()))\n",
        "    return losses"
      ]
    },
    {
      "cell_type": "markdown",
      "metadata": {
        "id": "m0Yy_KRgdUdb"
      },
      "source": [
        "<div class='alert alert-block alert-info'>\n",
        "            Code:</div>"
      ]
    },
    {
      "cell_type": "code",
      "execution_count": null,
      "metadata": {
        "id": "vz82AFmL0LMx"
      },
      "outputs": [],
      "source": [
        "# Same for the evaluation ! We don't need the optimizer here. \n",
        "def eval_model(model, criterion, evalloader):\n",
        "    model.eval()\n",
        "    total_epoch_loss = 0\n",
        "    total_epoch_acc = 0\n",
        "    with torch.no_grad():\n",
        "        for i, (x, y) in enumerate(evalloader):\n",
        "            pred = model(x) # To complete\n",
        "            loss = criterion(pred,y)# To complete\n",
        "            num_corrects = torch.sum((nn.Sigmoid()(pred)>0.5)==y)# To complete\n",
        "            acc = 100.0 * num_corrects/len(y)\n",
        "            total_epoch_loss += loss.item()\n",
        "            total_epoch_acc += acc.item()\n",
        "\n",
        "    return total_epoch_loss/(i+1), total_epoch_acc/(i+1)"
      ]
    },
    {
      "cell_type": "code",
      "execution_count": null,
      "metadata": {
        "id": "J8grPth70ZyO"
      },
      "outputs": [],
      "source": [
        "# A function which will help you execute experiments rapidly - with a early_stopping option when necessary. \n",
        "def experiment(model, opt, criterion, num_epochs = 5, early_stopping = True):\n",
        "    train_losses = []\n",
        "    if early_stopping: \n",
        "        best_valid_loss = 10. \n",
        "    print(\"Beginning training...\")\n",
        "    for e in range(num_epochs):\n",
        "        print(\"Epoch \" + str(e+1) + \":\")\n",
        "        train_losses += train_epoch(model, opt, criterion, training_dataloader)\n",
        "        valid_loss, valid_acc = eval_model(model, criterion, valid_dataloader)\n",
        "        print(\"Epoch \" + str(e+1) + \" : Validation loss = \" + str(valid_loss) + \"; Validation acc = \" + str(valid_acc))\n",
        "        if early_stopping:\n",
        "            if valid_loss < best_valid_loss:\n",
        "                best_valid_loss = valid_loss\n",
        "            else:\n",
        "                print(\"Early stopping.\")\n",
        "                break  \n",
        "    test_loss, test_acc = eval_model(model, criterion, test_dataloader)\n",
        "    print(\"Epoch \" + str(e+1) + \" : Test loss = \" + str(test_loss) + \"; Test acc = \" + str(test_acc))\n",
        "    return train_losses"
      ]
    },
    {
      "cell_type": "code",
      "execution_count": null,
      "metadata": {
        "colab": {
          "base_uri": "https://localhost:8080/"
        },
        "id": "UZvgnfo10Z1i",
        "outputId": "27444310-f244-4ad0-ccf4-0d16e1260de1"
      },
      "outputs": [
        {
          "name": "stdout",
          "output_type": "stream",
          "text": [
            "Beginning training...\n",
            "Epoch 1:\n",
            "Batch 0 : training loss = 0.6976265907287598; training acc = 46.5\n",
            "Batch 20 : training loss = 0.6767209768295288; training acc = 60.5\n",
            "Batch 40 : training loss = 0.6480390429496765; training acc = 69.5\n",
            "Batch 60 : training loss = 0.6267549395561218; training acc = 67.5\n",
            "Batch 80 : training loss = 0.5883846879005432; training acc = 73.0\n",
            "Epoch 1 : Validation loss = 0.5629138155281543; Validation acc = 73.56\n",
            "Epoch 2:\n",
            "Batch 0 : training loss = 0.59505695104599; training acc = 73.0\n",
            "Batch 20 : training loss = 0.4797183871269226; training acc = 83.0\n",
            "Batch 40 : training loss = 0.5481731295585632; training acc = 74.5\n",
            "Batch 60 : training loss = 0.4616962671279907; training acc = 79.5\n",
            "Batch 80 : training loss = 0.506399393081665; training acc = 79.5\n",
            "Epoch 2 : Validation loss = 0.44307120352983476; Validation acc = 80.36\n",
            "Epoch 3:\n",
            "Batch 0 : training loss = 0.37736037373542786; training acc = 86.5\n",
            "Batch 20 : training loss = 0.38084617257118225; training acc = 82.0\n",
            "Batch 40 : training loss = 0.30911847949028015; training acc = 90.0\n",
            "Batch 60 : training loss = 0.3156293034553528; training acc = 88.5\n",
            "Batch 80 : training loss = 0.3989090621471405; training acc = 83.0\n",
            "Epoch 3 : Validation loss = 0.3928840893507004; Validation acc = 82.74\n",
            "Epoch 4:\n",
            "Batch 0 : training loss = 0.2763645052909851; training acc = 91.0\n",
            "Batch 20 : training loss = 0.3073737323284149; training acc = 90.5\n",
            "Batch 40 : training loss = 0.2836344540119171; training acc = 92.0\n",
            "Batch 60 : training loss = 0.2725898027420044; training acc = 89.0\n",
            "Batch 80 : training loss = 0.26909497380256653; training acc = 88.5\n",
            "Epoch 4 : Validation loss = 0.3746404441818595; Validation acc = 83.3\n",
            "Epoch 5:\n",
            "Batch 0 : training loss = 0.24340938031673431; training acc = 92.0\n",
            "Batch 20 : training loss = 0.2851047217845917; training acc = 90.0\n",
            "Batch 40 : training loss = 0.2391594499349594; training acc = 91.5\n",
            "Batch 60 : training loss = 0.2009878158569336; training acc = 96.0\n",
            "Batch 80 : training loss = 0.20414556562900543; training acc = 94.5\n",
            "Epoch 5 : Validation loss = 0.3741260627284646; Validation acc = 83.52\n",
            "Epoch 5 : Test loss = 0.42804220305383206; Test acc = 80.404\n"
          ]
        }
      ],
      "source": [
        "train_losses = experiment(model, opt, criterion)"
      ]
    },
    {
      "cell_type": "code",
      "execution_count": null,
      "metadata": {
        "colab": {
          "base_uri": "https://localhost:8080/",
          "height": 282
        },
        "id": "m-CIwDga0Z7q",
        "outputId": "f691f26f-c5db-4119-f1d5-5688e342a531"
      },
      "outputs": [
        {
          "data": {
            "text/plain": [
              "[<matplotlib.lines.Line2D at 0x7fca2b76b1d0>]"
            ]
          },
          "execution_count": 55,
          "metadata": {},
          "output_type": "execute_result"
        },
        {
          "data": {
            "image/png": "[encoded data removed]",
            "text/plain": [
              "<Figure size 432x288 with 1 Axes>"
            ]
          },
          "metadata": {},
          "output_type": "display_data"
        }
      ],
      "source": [
        "import matplotlib.pyplot as plt\n",
        "plt.plot(train_losses)"
      ]
    },
    {
      "cell_type": "markdown",
      "metadata": {
        "id": "kp8d-0N7JPlR"
      },
      "source": [
        "### With Glove embeddings: \n",
        "\n",
        "Now, we would like to integrate pre-trained word embeddings into our model ! Let's use again the functions that we used in the previous lab:"
      ]
    },
    {
      "cell_type": "code",
      "execution_count": null,
      "metadata": {
        "id": "RUa7xjDv0Z-0"
      },
      "outputs": [],
      "source": [
        "import gensim.downloader as api\n",
        "loaded_glove_model = api.load(\"glove-wiki-gigaword-300\")\n",
        "loaded_glove_embeddings = loaded_glove_model.vectors"
      ]
    },
    {
      "cell_type": "code",
      "execution_count": null,
      "metadata": {
        "id": "unwB2-4r0aBg"
      },
      "outputs": [],
      "source": [
        "def get_glove_adapted_embeddings(glove_model, input_voc):\n",
        "    keys = {i: glove_model.key_to_index.get(w, None) for w, i in input_voc.items()}\n",
        "    index_dict = {i: key for i, key in keys.items() if key is not None}\n",
        "    embeddings = np.zeros((len(input_voc)+1,glove_model.vectors.shape[1]))\n",
        "    for i, ind in index_dict.items():\n",
        "        embeddings[i] = glove_model.vectors[ind]\n",
        "    return embeddings\n",
        "\n",
        "GloveEmbeddings = get_glove_adapted_embeddings(loaded_glove_model, training_word2idx)"
      ]
    },
    {
      "cell_type": "code",
      "execution_count": null,
      "metadata": {
        "colab": {
          "base_uri": "https://localhost:8080/"
        },
        "id": "dhoS6NH20aEU",
        "outputId": "95a3245e-fcfe-4bb2-84cb-635c0689af1f"
      },
      "outputs": [
        {
          "name": "stdout",
          "output_type": "stream",
          "text": [
            "(31734, 300)\n",
            "[0. 0. 0. 0. 0. 0. 0. 0. 0. 0. 0. 0. 0. 0. 0. 0. 0. 0. 0. 0. 0. 0. 0. 0.\n",
            " 0. 0. 0. 0. 0. 0. 0. 0. 0. 0. 0. 0. 0. 0. 0. 0. 0. 0. 0. 0. 0. 0. 0. 0.\n",
            " 0. 0. 0. 0. 0. 0. 0. 0. 0. 0. 0. 0. 0. 0. 0. 0. 0. 0. 0. 0. 0. 0. 0. 0.\n",
            " 0. 0. 0. 0. 0. 0. 0. 0. 0. 0. 0. 0. 0. 0. 0. 0. 0. 0. 0. 0. 0. 0. 0. 0.\n",
            " 0. 0. 0. 0. 0. 0. 0. 0. 0. 0. 0. 0. 0. 0. 0. 0. 0. 0. 0. 0. 0. 0. 0. 0.\n",
            " 0. 0. 0. 0. 0. 0. 0. 0. 0. 0. 0. 0. 0. 0. 0. 0. 0. 0. 0. 0. 0. 0. 0. 0.\n",
            " 0. 0. 0. 0. 0. 0. 0. 0. 0. 0. 0. 0. 0. 0. 0. 0. 0. 0. 0. 0. 0. 0. 0. 0.\n",
            " 0. 0. 0. 0. 0. 0. 0. 0. 0. 0. 0. 0. 0. 0. 0. 0. 0. 0. 0. 0. 0. 0. 0. 0.\n",
            " 0. 0. 0. 0. 0. 0. 0. 0. 0. 0. 0. 0. 0. 0. 0. 0. 0. 0. 0. 0. 0. 0. 0. 0.\n",
            " 0. 0. 0. 0. 0. 0. 0. 0. 0. 0. 0. 0. 0. 0. 0. 0. 0. 0. 0. 0. 0. 0. 0. 0.\n",
            " 0. 0. 0. 0. 0. 0. 0. 0. 0. 0. 0. 0. 0. 0. 0. 0. 0. 0. 0. 0. 0. 0. 0. 0.\n",
            " 0. 0. 0. 0. 0. 0. 0. 0. 0. 0. 0. 0. 0. 0. 0. 0. 0. 0. 0. 0. 0. 0. 0. 0.\n",
            " 0. 0. 0. 0. 0. 0. 0. 0. 0. 0. 0. 0.]\n"
          ]
        }
      ],
      "source": [
        "print(GloveEmbeddings.shape)\n",
        "# We should check that the \"padding\" vector is at zero\n",
        "print(GloveEmbeddings[0])"
      ]
    },
    {
      "cell_type": "markdown",
      "metadata": {
        "id": "SpkmUwA4LjT0"
      },
      "source": [
        "Here, implement a ```PretrainedAveragingModel``` very similar to the previous model, using the ```nn.Embedding``` method ```from_pretrained()``` to initialize the embeddings from a numpy array. Use the ```requires_grad_``` method to specify if the model must fine-tune the embeddings or not ! "
      ]
    },
    {
      "cell_type": "markdown",
      "metadata": {
        "id": "NesPn0U6dUdc"
      },
      "source": [
        "<div class='alert alert-block alert-info'>\n",
        "            Code:</div>"
      ]
    },
    {
      "cell_type": "code",
      "execution_count": null,
      "metadata": {
        "id": "aVh4fz39Lg5c"
      },
      "outputs": [],
      "source": [
        "class PretrainedAveragingModel(nn.Module):\n",
        "    # To complete\n",
        "    def __init__(self, embedding_dim,embedding_initialization ,bool_fine_tune=True):\n",
        "      super().__init__()\n",
        "      self.embeddings = nn.Embedding.from_pretrained(embedding_initialization)\n",
        "      self.embeddings.weight.requires_grad = bool_fine_tune\n",
        "      self.linear = nn.Linear(in_features=embedding_dim, out_features=1)\n",
        "        \n",
        "    def forward(self, inputs):\n",
        "      x = torch.mean(self.embeddings(inputs),dim=1)\n",
        "      o = self.linear(x).squeeze()# To complete\n",
        "      return o"
      ]
    },
    {
      "cell_type": "markdown",
      "metadata": {
        "id": "rmQUbBVxLtwa"
      },
      "source": [
        "<div class='alert alert-block alert-warning'>\n",
        "            Questions:</div>\n",
        "            \n",
        "- What are the results **with and without fine-tuning of embeddings imported from GloVe** ?\n",
        "- Make hypothesis based on your intuition and the class on how the size of the vocabulary (change the minimum frequency of words to be taken in the vocabular) will impact results, in the three cases (No pre-training, pre-training without fine-tuning, pretraining with fine-tuning).\n",
        "- Verify experiments and analyze your results !"
      ]
    },
    {
      "cell_type": "code",
      "execution_count": null,
      "metadata": {
        "id": "P--2Jaqa9dO5"
      },
      "outputs": [],
      "source": [
        "# Pretrained averaging model without fine tunning of embeddings\n",
        "pre_trained_model = PretrainedAveragingModel(300,torch.FloatTensor(GloveEmbeddings), False)\n",
        "# Create an optimizer\n",
        "optim_pre_trained_model = optim.Adam(pre_trained_model.parameters(), lr=0.0025, betas=(0.9, 0.999))\n",
        "# The criterion is a binary cross entropy loss based on logits - meaning that the sigmoid is integrated into the criterion\n",
        "criterion = nn.BCEWithLogitsLoss()"
      ]
    },
    {
      "cell_type": "code",
      "execution_count": null,
      "metadata": {
        "colab": {
          "base_uri": "https://localhost:8080/"
        },
        "id": "bvJHWXpy9fJv",
        "outputId": "f00f037b-7c28-4669-af5f-4dfff2891a54"
      },
      "outputs": [
        {
          "name": "stdout",
          "output_type": "stream",
          "text": [
            "Beginning training...\n",
            "Epoch 1:\n",
            "Batch 0 : training loss = 0.7030707001686096; training acc = 50.5\n",
            "Batch 20 : training loss = 0.6914168000221252; training acc = 49.5\n",
            "Batch 40 : training loss = 0.6725578308105469; training acc = 60.5\n",
            "Batch 60 : training loss = 0.6701670289039612; training acc = 60.0\n",
            "Batch 80 : training loss = 0.6676265001296997; training acc = 65.0\n",
            "Epoch 1 : Validation loss = 0.6523724991083145; Validation acc = 65.62\n",
            "Epoch 2:\n",
            "Batch 0 : training loss = 0.6457061767578125; training acc = 67.5\n",
            "Batch 20 : training loss = 0.634670615196228; training acc = 71.0\n",
            "Batch 40 : training loss = 0.6445751786231995; training acc = 65.0\n",
            "Batch 60 : training loss = 0.6474559903144836; training acc = 64.5\n",
            "Batch 80 : training loss = 0.6225495338439941; training acc = 69.5\n",
            "Epoch 2 : Validation loss = 0.6281229418516159; Validation acc = 67.36\n",
            "Epoch 3:\n",
            "Batch 0 : training loss = 0.5875823497772217; training acc = 74.5\n",
            "Batch 20 : training loss = 0.6146433353424072; training acc = 72.5\n",
            "Batch 40 : training loss = 0.6218402981758118; training acc = 70.0\n",
            "Batch 60 : training loss = 0.6299309730529785; training acc = 67.0\n",
            "Batch 80 : training loss = 0.5998887419700623; training acc = 73.5\n",
            "Epoch 3 : Validation loss = 0.6117109754681587; Validation acc = 68.88\n",
            "Epoch 4:\n",
            "Batch 0 : training loss = 0.6191108822822571; training acc = 69.5\n",
            "Batch 20 : training loss = 0.610743522644043; training acc = 68.5\n",
            "Batch 40 : training loss = 0.6073763966560364; training acc = 68.5\n",
            "Batch 60 : training loss = 0.5777615308761597; training acc = 73.5\n",
            "Batch 80 : training loss = 0.6222269535064697; training acc = 69.5\n",
            "Epoch 4 : Validation loss = 0.5980713918805123; Validation acc = 70.14\n",
            "Epoch 5:\n",
            "Batch 0 : training loss = 0.5859844088554382; training acc = 73.0\n",
            "Batch 20 : training loss = 0.6125806570053101; training acc = 70.0\n",
            "Batch 40 : training loss = 0.628654420375824; training acc = 66.0\n",
            "Batch 60 : training loss = 0.5897065997123718; training acc = 69.0\n",
            "Batch 80 : training loss = 0.5893613696098328; training acc = 69.0\n",
            "Epoch 5 : Validation loss = 0.5855348135530949; Validation acc = 71.22\n",
            "Epoch 5 : Test loss = 0.5913471314013005; Test acc = 70.872\n"
          ]
        }
      ],
      "source": [
        "train_losses = experiment(pre_trained_model, optim_pre_trained_model, criterion)"
      ]
    },
    {
      "cell_type": "code",
      "execution_count": null,
      "metadata": {
        "id": "xc6i1FXsLil8"
      },
      "outputs": [],
      "source": [
        "# Pretrained averaging model with fine tunning of embeddings\n",
        "pre_trained_model = PretrainedAveragingModel(300,torch.FloatTensor(GloveEmbeddings), True)\n",
        "# Create an optimizer\n",
        "opt_pre_trained_model = optim.Adam(pre_trained_model.parameters(), lr=0.0025, betas=(0.9, 0.999))\n",
        "# The criterion is a binary cross entropy loss based on logits - meaning that the sigmoid is integrated into the criterion\n",
        "criterion = nn.BCEWithLogitsLoss()"
      ]
    },
    {
      "cell_type": "code",
      "execution_count": null,
      "metadata": {
        "colab": {
          "base_uri": "https://localhost:8080/"
        },
        "id": "kzgSTvT5LiqC",
        "outputId": "ce93ebc8-a95a-4579-9cc1-38dfeaa4fcb9"
      },
      "outputs": [
        {
          "name": "stdout",
          "output_type": "stream",
          "text": [
            "Beginning training...\n",
            "Epoch 1:\n",
            "Batch 0 : training loss = 0.6928866505622864; training acc = 53.5\n",
            "Batch 20 : training loss = 0.6675142645835876; training acc = 68.0\n",
            "Batch 40 : training loss = 0.6479235887527466; training acc = 66.0\n",
            "Batch 60 : training loss = 0.6297004222869873; training acc = 67.5\n",
            "Batch 80 : training loss = 0.5946044325828552; training acc = 72.5\n",
            "Epoch 1 : Validation loss = 0.5330452211201191; Validation acc = 75.5\n",
            "Epoch 2:\n",
            "Batch 0 : training loss = 0.518364667892456; training acc = 79.0\n",
            "Batch 20 : training loss = 0.45742034912109375; training acc = 81.0\n",
            "Batch 40 : training loss = 0.42695939540863037; training acc = 83.5\n",
            "Batch 60 : training loss = 0.4139193296432495; training acc = 84.0\n",
            "Batch 80 : training loss = 0.3929268717765808; training acc = 84.0\n",
            "Epoch 2 : Validation loss = 0.4080683474987745; Validation acc = 82.5\n",
            "Epoch 3:\n",
            "Batch 0 : training loss = 0.3503403961658478; training acc = 87.0\n",
            "Batch 20 : training loss = 0.36842915415763855; training acc = 83.0\n",
            "Batch 40 : training loss = 0.3136075735092163; training acc = 89.0\n",
            "Batch 60 : training loss = 0.3415187895298004; training acc = 85.0\n",
            "Batch 80 : training loss = 0.33900538086891174; training acc = 88.5\n",
            "Epoch 3 : Validation loss = 0.37212853476405144; Validation acc = 83.58\n",
            "Epoch 4:\n",
            "Batch 0 : training loss = 0.23233680427074432; training acc = 93.0\n",
            "Batch 20 : training loss = 0.23577047884464264; training acc = 94.0\n",
            "Batch 40 : training loss = 0.23207692801952362; training acc = 91.0\n",
            "Batch 60 : training loss = 0.28640830516815186; training acc = 87.0\n",
            "Batch 80 : training loss = 0.2885705828666687; training acc = 87.5\n",
            "Epoch 4 : Validation loss = 0.36757156819105147; Validation acc = 83.82\n",
            "Epoch 5:\n",
            "Batch 0 : training loss = 0.2273223102092743; training acc = 91.5\n",
            "Batch 20 : training loss = 0.2213977575302124; training acc = 92.0\n",
            "Batch 40 : training loss = 0.1777881234884262; training acc = 94.5\n",
            "Batch 60 : training loss = 0.16407980024814606; training acc = 93.5\n",
            "Batch 80 : training loss = 0.184666246175766; training acc = 94.5\n",
            "Epoch 5 : Validation loss = 0.369470981657505; Validation acc = 83.64\n",
            "Early stopping.\n",
            "Epoch 5 : Test loss = 0.4385055839158595; Test acc = 80.252\n"
          ]
        }
      ],
      "source": [
        "train_losses = experiment(pre_trained_model, opt_pre_trained_model, criterion)"
      ]
    },
    {
      "cell_type": "markdown",
      "metadata": {
        "id": "Y1Qvt1XnCSSS"
      },
      "source": [
        "> - **Answers:** <br>\n",
        "1- We notice that without fine_tunning of embeddings, we obtain a validation accuracy of 71.22% and a test accuracy of 70.872% . So the no pre-trained model outperform the pre-trained without fine-tuning model since it gives almost 10% higher performances.For the pre-trained fine-tuned model, we obtain test and validation accuracies that are very close to those obatined by the no pre-trained model which means that fine-tunning the embeddings that are imported from GloVe leads to adapting representations to the data and to the task and thus to performances that are close to those of the model whose embedding layer is trained from scratch on the vocabularly.<br>\n",
        "2- Hypthesis on how the size of the vocabularly will impact the results in cases of no pre-training, pre-training without fine-tuning, pretraining with fine-tuning:<br>\n",
        "  - Decreasing  the parameter min_freq in```__init__``` function of the class TextClassificationDataset which is already set to a small value that is equal to 5 will not lead to a significant change in the performances in case of the three models. In fact, decreasing min_freq means increasing the size of the vocabularly and may be including words that are not useful for the classification task. Hence we will not obtain an improvement in the performances.\n",
        "  - Increasing min_freq to a high value such as 20 will lead to a huge decrease in the size of the vocabularly and thus words that were included in the vocabularly and they are useful for the classification task will be removed from the vocabularly. Thus,this will leads to a drop in the performances for three models."
      ]
    },
    {
      "cell_type": "markdown",
      "metadata": {
        "id": "wW5l4PviFxI0"
      },
      "source": [
        "> 3- Verifying Hypothesis with experiments:<br>\n",
        "-  **Decreasing min_freq from 5 to 3** which means increasing the size of vocabularly from 31733 to 44197 :\n"
      ]
    },
    {
      "cell_type": "code",
      "execution_count": null,
      "metadata": {
        "id": "Vc74bpYvNSIl"
      },
      "outputs": [],
      "source": [
        "# I have changed the previous function experiment by adding three parameters train_dataloader, validation_dataloader and testing_dataloader so that when changing the vocabularly size \n",
        "# I can affect the new dataloaders to the three parameters.\n",
        "def experiment(model, opt, criterion, num_epochs = 5, early_stopping = True, train_dataloader=training_dataloader,validation_dataloader=valid_dataloader,testing_dataloader=test_dataloader):\n",
        "    train_losses = []\n",
        "    if early_stopping: \n",
        "        best_valid_loss = 10. \n",
        "    print(\"Beginning training...\")\n",
        "    for e in range(num_epochs):\n",
        "        print(\"Epoch \" + str(e+1) + \":\")\n",
        "        train_losses += train_epoch(model, opt, criterion, train_dataloader)\n",
        "        valid_loss, valid_acc = eval_model(model, criterion, validation_dataloader)\n",
        "        print(\"Epoch \" + str(e+1) + \" : Validation loss = \" + str(valid_loss) + \"; Validation acc = \" + str(valid_acc))\n",
        "        if early_stopping:\n",
        "            if valid_loss < best_valid_loss:\n",
        "                best_valid_loss = valid_loss\n",
        "            else:\n",
        "                print(\"Early stopping.\")\n",
        "                break  \n",
        "    test_loss, test_acc = eval_model(model, criterion, testing_dataloader)\n",
        "    print(\"Epoch \" + str(e+1) + \" : Test loss = \" + str(test_loss) + \"; Test acc = \" + str(test_acc))\n",
        "    return train_losses"
      ]
    },
    {
      "cell_type": "code",
      "execution_count": null,
      "metadata": {
        "colab": {
          "base_uri": "https://localhost:8080/"
        },
        "id": "bJ9zneUgdUdd",
        "outputId": "86d88bfe-475b-413a-9c1d-d34396dc7513"
      },
      "outputs": [
        {
          "name": "stdout",
          "output_type": "stream",
          "text": [
            "size of vocabularly is : 44197\n"
          ]
        }
      ],
      "source": [
        "# decreasing min_freq from 5 to 3 \n",
        "training_dataset_decr_min_freq = TextClassificationDataset(train_texts_splt, train_labels_splt,min_freq=3)\n",
        "training_word2idx_decr_min_freq, training_idx2word_decr_min_freq = training_dataset_decr_min_freq .get_vocab()\n",
        "print('size of vocabularly is :',len(training_word2idx_decr_min_freq))\n",
        "valid_dataset_decr_min_freq = TextClassificationDataset(val_texts, val_labels, (training_word2idx_decr_min_freq, training_idx2word_decr_min_freq))\n",
        "test_dataset_decr_min_freq = TextClassificationDataset(test_texts, test_labels, (training_word2idx_decr_min_freq, training_idx2word_decr_min_freq))"
      ]
    },
    {
      "cell_type": "code",
      "execution_count": null,
      "metadata": {
        "id": "WbTMGGfTG_qa"
      },
      "outputs": [],
      "source": [
        "training_decr_min_freq_dataloader= DataLoader(training_dataset_decr_min_freq, batch_size = 200, shuffle=True)\n",
        "valid_dataloader_decr_min_freq_dataloader = DataLoader(valid_dataset_decr_min_freq, batch_size = 25)\n",
        "test_dataloader_decr_min_freq_dataloader = DataLoader(test_dataset_decr_min_freq, batch_size = 25)"
      ]
    },
    {
      "cell_type": "code",
      "execution_count": null,
      "metadata": {
        "id": "F9KlAIFiGucA"
      },
      "outputs": [],
      "source": [
        "# No_pre_training Model\n",
        "model_decr_min_freq = AveragingModel(300, len(training_word2idx_decr_min_freq))\n",
        "# Create an optimizer\n",
        "opt_decr_min_freq = optim.Adam(model_decr_min_freq.parameters(), lr=0.0025, betas=(0.9, 0.999))"
      ]
    },
    {
      "cell_type": "code",
      "execution_count": null,
      "metadata": {
        "colab": {
          "base_uri": "https://localhost:8080/"
        },
        "id": "t3xiHhwSGvR7",
        "outputId": "928347f1-979c-4831-d84c-4205b59ff38c"
      },
      "outputs": [
        {
          "name": "stdout",
          "output_type": "stream",
          "text": [
            "Beginning training...\n",
            "Epoch 1:\n",
            "Batch 0 : training loss = 0.6941819787025452; training acc = 45.5\n",
            "Batch 20 : training loss = 0.6742976903915405; training acc = 60.5\n",
            "Batch 40 : training loss = 0.6425702571868896; training acc = 72.0\n",
            "Batch 60 : training loss = 0.6088775992393494; training acc = 68.0\n",
            "Batch 80 : training loss = 0.5720478296279907; training acc = 75.0\n",
            "Epoch 1 : Validation loss = 0.5715596996247768; Validation acc = 73.24\n",
            "Epoch 2:\n",
            "Batch 0 : training loss = 0.566629946231842; training acc = 72.0\n",
            "Batch 20 : training loss = 0.5658172369003296; training acc = 72.5\n",
            "Batch 40 : training loss = 0.4945797622203827; training acc = 82.5\n",
            "Batch 60 : training loss = 0.4295741319656372; training acc = 86.5\n",
            "Batch 80 : training loss = 0.4104689657688141; training acc = 84.0\n",
            "Epoch 2 : Validation loss = 0.4451546338945627; Validation acc = 80.3\n",
            "Epoch 3:\n",
            "Batch 0 : training loss = 0.3711417019367218; training acc = 86.0\n",
            "Batch 20 : training loss = 0.3558747172355652; training acc = 87.0\n",
            "Batch 40 : training loss = 0.3515646755695343; training acc = 88.5\n",
            "Batch 60 : training loss = 0.36485055088996887; training acc = 85.0\n",
            "Batch 80 : training loss = 0.3526725769042969; training acc = 86.0\n",
            "Epoch 3 : Validation loss = 0.3952380306273699; Validation acc = 82.64\n",
            "Epoch 4:\n",
            "Batch 0 : training loss = 0.289852499961853; training acc = 91.5\n",
            "Batch 20 : training loss = 0.2731938660144806; training acc = 89.0\n",
            "Batch 40 : training loss = 0.3142121136188507; training acc = 85.0\n",
            "Batch 60 : training loss = 0.24722301959991455; training acc = 91.0\n",
            "Batch 80 : training loss = 0.24842405319213867; training acc = 93.0\n",
            "Epoch 4 : Validation loss = 0.3738317862898111; Validation acc = 83.48\n",
            "Epoch 5:\n",
            "Batch 0 : training loss = 0.23621390759944916; training acc = 90.5\n",
            "Batch 20 : training loss = 0.20654289424419403; training acc = 93.0\n",
            "Batch 40 : training loss = 0.20676960051059723; training acc = 91.5\n",
            "Batch 60 : training loss = 0.23951900005340576; training acc = 91.0\n",
            "Batch 80 : training loss = 0.19709445536136627; training acc = 93.5\n",
            "Epoch 5 : Validation loss = 0.3715063446760178; Validation acc = 83.84\n",
            "Epoch 5 : Test loss = 0.43107036329433324; Test acc = 80.144\n"
          ]
        }
      ],
      "source": [
        "train_losses = experiment(model_decr_min_freq,opt_decr_min_freq, criterion,train_dataloader=training_decr_min_freq_dataloader,validation_dataloader=valid_dataloader_decr_min_freq_dataloader,testing_dataloader=test_dataloader_decr_min_freq_dataloader)"
      ]
    },
    {
      "cell_type": "code",
      "execution_count": null,
      "metadata": {
        "id": "utUhOUigInvm"
      },
      "outputs": [],
      "source": [
        "GloveEmbeddings_decr_min_freq = get_glove_adapted_embeddings(loaded_glove_model, training_word2idx_decr_min_freq)"
      ]
    },
    {
      "cell_type": "code",
      "execution_count": null,
      "metadata": {
        "id": "Wc-fvbzjIGPY"
      },
      "outputs": [],
      "source": [
        "# Pre_trained model with fine_tunning\n",
        "pre_trained_model_decrfreq = PretrainedAveragingModel(300,torch.FloatTensor(GloveEmbeddings_decr_min_freq ), True)\n",
        "# Create an optimizer\n",
        "opt_pre_trained_model_decrfreq = optim.Adam(pre_trained_model_decrfreq.parameters(), lr=0.0025, betas=(0.9, 0.999))"
      ]
    },
    {
      "cell_type": "code",
      "execution_count": null,
      "metadata": {
        "colab": {
          "base_uri": "https://localhost:8080/"
        },
        "id": "HV8d-V-FI-Vt",
        "outputId": "0e8e6512-f5d7-42c0-a2a1-b290a6e77d33"
      },
      "outputs": [
        {
          "name": "stdout",
          "output_type": "stream",
          "text": [
            "Beginning training...\n",
            "Epoch 1:\n",
            "Batch 0 : training loss = 0.6340320706367493; training acc = 66.5\n",
            "Batch 20 : training loss = 0.6198915243148804; training acc = 66.5\n",
            "Batch 40 : training loss = 0.5303808450698853; training acc = 76.5\n",
            "Batch 60 : training loss = 0.4970920979976654; training acc = 78.5\n",
            "Batch 80 : training loss = 0.4254356324672699; training acc = 81.0\n",
            "Epoch 1 : Validation loss = 0.45005253024399283; Validation acc = 80.7\n",
            "Epoch 2:\n",
            "Batch 0 : training loss = 0.4534853994846344; training acc = 80.0\n",
            "Batch 20 : training loss = 0.35447996854782104; training acc = 87.0\n",
            "Batch 40 : training loss = 0.3991681933403015; training acc = 82.5\n",
            "Batch 60 : training loss = 0.34714949131011963; training acc = 83.5\n",
            "Batch 80 : training loss = 0.3803045153617859; training acc = 85.0\n",
            "Epoch 2 : Validation loss = 0.38891952142119407; Validation acc = 82.96\n",
            "Epoch 3:\n",
            "Batch 0 : training loss = 0.28769704699516296; training acc = 89.5\n",
            "Batch 20 : training loss = 0.28413480520248413; training acc = 89.0\n",
            "Batch 40 : training loss = 0.26182374358177185; training acc = 92.5\n",
            "Batch 60 : training loss = 0.29770272970199585; training acc = 89.5\n",
            "Batch 80 : training loss = 0.23834562301635742; training acc = 92.0\n",
            "Epoch 3 : Validation loss = 0.3669830718263984; Validation acc = 83.96\n",
            "Epoch 4:\n",
            "Batch 0 : training loss = 0.24731631577014923; training acc = 90.0\n",
            "Batch 20 : training loss = 0.21360988914966583; training acc = 93.0\n",
            "Batch 40 : training loss = 0.22116084396839142; training acc = 93.5\n",
            "Batch 60 : training loss = 0.17981943488121033; training acc = 96.0\n",
            "Batch 80 : training loss = 0.18338797986507416; training acc = 94.5\n",
            "Epoch 4 : Validation loss = 0.3665548689290881; Validation acc = 83.92\n",
            "Epoch 5:\n",
            "Batch 0 : training loss = 0.17510353028774261; training acc = 96.0\n",
            "Batch 20 : training loss = 0.2099176049232483; training acc = 91.5\n",
            "Batch 40 : training loss = 0.16476188600063324; training acc = 94.0\n",
            "Batch 60 : training loss = 0.13310329616069794; training acc = 96.0\n",
            "Batch 80 : training loss = 0.14368769526481628; training acc = 97.0\n",
            "Epoch 5 : Validation loss = 0.3743318188935518; Validation acc = 83.8\n",
            "Early stopping.\n",
            "Epoch 5 : Test loss = 0.45027737468108536; Test acc = 80.0\n"
          ]
        }
      ],
      "source": [
        "train_losses = experiment(pre_trained_model_decrfreq ,opt_pre_trained_model_decrfreq, criterion,train_dataloader=training_decr_min_freq_dataloader,validation_dataloader=valid_dataloader_decr_min_freq_dataloader,testing_dataloader=test_dataloader_decr_min_freq_dataloader)"
      ]
    },
    {
      "cell_type": "code",
      "execution_count": null,
      "metadata": {
        "id": "au6dvcbdJIbx"
      },
      "outputs": [],
      "source": [
        "# Pre_trained model without fine_tunning\n",
        "pre_trained_model_decrfreq = PretrainedAveragingModel(300,torch.FloatTensor(GloveEmbeddings_decr_min_freq ), False)\n",
        "# Create an optimizer\n",
        "opt_pre_trained_model_decrfreq = optim.Adam(pre_trained_model_decrfreq .parameters(), lr=0.0025, betas=(0.9, 0.999))"
      ]
    },
    {
      "cell_type": "code",
      "execution_count": null,
      "metadata": {
        "colab": {
          "base_uri": "https://localhost:8080/"
        },
        "id": "GdLGpjbdJJGL",
        "outputId": "7c9b59ca-471f-4e40-b989-8196f5ae0cc6"
      },
      "outputs": [
        {
          "name": "stdout",
          "output_type": "stream",
          "text": [
            "Beginning training...\n",
            "Epoch 1:\n",
            "Batch 0 : training loss = 0.6941332817077637; training acc = 42.5\n",
            "Batch 20 : training loss = 0.6800281405448914; training acc = 65.5\n",
            "Batch 40 : training loss = 0.6711807250976562; training acc = 61.5\n",
            "Batch 60 : training loss = 0.6796831488609314; training acc = 59.0\n",
            "Batch 80 : training loss = 0.6536214351654053; training acc = 62.5\n",
            "Epoch 1 : Validation loss = 0.6536171212792397; Validation acc = 64.7\n",
            "Epoch 2:\n",
            "Batch 0 : training loss = 0.6385538578033447; training acc = 72.5\n",
            "Batch 20 : training loss = 0.6529909372329712; training acc = 66.0\n",
            "Batch 40 : training loss = 0.6469908356666565; training acc = 64.5\n",
            "Batch 60 : training loss = 0.6396439075469971; training acc = 65.0\n",
            "Batch 80 : training loss = 0.6399198770523071; training acc = 68.0\n",
            "Epoch 2 : Validation loss = 0.6287251433730126; Validation acc = 67.4\n",
            "Epoch 3:\n",
            "Batch 0 : training loss = 0.6459828019142151; training acc = 66.5\n",
            "Batch 20 : training loss = 0.6134130954742432; training acc = 71.0\n",
            "Batch 40 : training loss = 0.5987727642059326; training acc = 68.0\n",
            "Batch 60 : training loss = 0.6135244965553284; training acc = 68.5\n",
            "Batch 80 : training loss = 0.6433404684066772; training acc = 66.0\n",
            "Epoch 3 : Validation loss = 0.6115894275903702; Validation acc = 69.1\n",
            "Epoch 4:\n",
            "Batch 0 : training loss = 0.607886791229248; training acc = 73.5\n",
            "Batch 20 : training loss = 0.6089107394218445; training acc = 73.0\n",
            "Batch 40 : training loss = 0.6150791049003601; training acc = 67.5\n",
            "Batch 60 : training loss = 0.6175330877304077; training acc = 69.5\n",
            "Batch 80 : training loss = 0.6152264475822449; training acc = 69.0\n",
            "Epoch 4 : Validation loss = 0.5990277135372162; Validation acc = 70.22\n",
            "Epoch 5:\n",
            "Batch 0 : training loss = 0.5916295647621155; training acc = 72.0\n",
            "Batch 20 : training loss = 0.6211714744567871; training acc = 70.5\n",
            "Batch 40 : training loss = 0.6111621260643005; training acc = 64.0\n",
            "Batch 60 : training loss = 0.5883494019508362; training acc = 72.5\n",
            "Batch 80 : training loss = 0.5928190350532532; training acc = 71.5\n",
            "Epoch 5 : Validation loss = 0.586243602335453; Validation acc = 71.16\n",
            "Epoch 5 : Test loss = 0.5936012732982635; Test acc = 70.32\n"
          ]
        }
      ],
      "source": [
        "train_losses = experiment(pre_trained_model_decrfreq ,opt_pre_trained_model_decrfreq, criterion,train_dataloader=training_decr_min_freq_dataloader,validation_dataloader=valid_dataloader_decr_min_freq_dataloader,testing_dataloader=test_dataloader_decr_min_freq_dataloader)"
      ]
    },
    {
      "cell_type": "markdown",
      "source": [
        "> **Analyzing results:**\n",
        "- We verify the hypothesis since there is not a significant increase of the validation and test accuracies. We notice that for the no-pretrained model and for the pre_trained fine tuned model, the test accuracy decreases from 80.144 (respectively from 80.252)to 80.404 (respectively to 80) and this can be explained by the fact that increasing the size of the vocabularly from 31733 to 44197 leads to including in the vocabularly words that doesn't help to classify data samples which lead to small drop in the test accuracy. For the pre-trained without fine_tuning model both validation and test accuracies decrease slightly from 71.16 (respectively from 70.32) to 71.22(respectively to 70.872). The reason behind this is that increasing the vocabularly size and not pre-training the embeddings leads to additional representations that are not adapted to the dataset.<br>\n",
        "$\\Longrightarrow$ We conclude that fixing min_freq to a non high value such as 5 leads to not including in the vocabularly words that have occured less than 5 times which means not including non frequent words that are not useful for classification so drecreasing min_freq will lead to including those words and hence to a slight drop in the test accuracies for all of the three models.\n"
      ],
      "metadata": {
        "id": "QVZUIeqxOsSu"
      }
    },
    {
      "cell_type": "markdown",
      "metadata": {
        "id": "WFBIbeCeKhPA"
      },
      "source": [
        "> - **Increasing min_freq from 5 to 20** which means decreasing the size of vocabularly from 31733 to 12720."
      ]
    },
    {
      "cell_type": "code",
      "execution_count": null,
      "metadata": {
        "colab": {
          "base_uri": "https://localhost:8080/"
        },
        "id": "Iy4oaMYzKtp4",
        "outputId": "f69045fc-69cd-45db-8ef0-589a5da7e776"
      },
      "outputs": [
        {
          "name": "stdout",
          "output_type": "stream",
          "text": [
            "size of vocabularly is : 12720\n"
          ]
        }
      ],
      "source": [
        "# Increasing min_freq from 5 to 20 \n",
        "training_dataset_incr_min_freq = TextClassificationDataset(train_texts_splt, train_labels_splt,min_freq=20)\n",
        "training_word2idx_incr_min_freq, training_idx2word_incr_min_freq = training_dataset_incr_min_freq.get_vocab()\n",
        "print('size of vocabularly is :',len(training_word2idx_incr_min_freq))\n",
        "valid_dataset_incr_min_freq = TextClassificationDataset(val_texts, val_labels, (training_word2idx_incr_min_freq, training_idx2word_incr_min_freq))\n",
        "test_dataset_incr_min_freq = TextClassificationDataset(test_texts, test_labels, (training_word2idx_incr_min_freq, training_idx2word_incr_min_freq))"
      ]
    },
    {
      "cell_type": "code",
      "execution_count": null,
      "metadata": {
        "id": "X7EAOQAGKt3D"
      },
      "outputs": [],
      "source": [
        "training_incr_min_freq_dataloader= DataLoader(training_dataset_incr_min_freq, batch_size = 200, shuffle=True)\n",
        "valid_incr_min_freq_dataloader = DataLoader(valid_dataset_incr_min_freq, batch_size = 25)\n",
        "test_incr_min_freq_dataloader = DataLoader(test_dataset_incr_min_freq, batch_size = 25)"
      ]
    },
    {
      "cell_type": "code",
      "execution_count": null,
      "metadata": {
        "id": "ZMnPFJDDKuNM"
      },
      "outputs": [],
      "source": [
        "# No_pre_training Model\n",
        "model_incr_min_freq = AveragingModel(300, len(training_word2idx_incr_min_freq))\n",
        "# Create an optimizer\n",
        "opt_incr_min_freq = optim.Adam(model_incr_min_freq.parameters(), lr=0.0025, betas=(0.9, 0.999))"
      ]
    },
    {
      "cell_type": "code",
      "execution_count": null,
      "metadata": {
        "colab": {
          "base_uri": "https://localhost:8080/"
        },
        "id": "R8Y53vq_KuP4",
        "outputId": "1ebbb1fe-4e44-4cf0-fda1-0f499966137d"
      },
      "outputs": [
        {
          "name": "stdout",
          "output_type": "stream",
          "text": [
            "Beginning training...\n",
            "Epoch 1:\n",
            "Batch 0 : training loss = 0.6930117607116699; training acc = 51.5\n",
            "Batch 20 : training loss = 0.6779242157936096; training acc = 60.0\n",
            "Batch 40 : training loss = 0.6618075370788574; training acc = 66.5\n",
            "Batch 60 : training loss = 0.6183212995529175; training acc = 71.5\n",
            "Batch 80 : training loss = 0.6086655259132385; training acc = 71.5\n",
            "Epoch 1 : Validation loss = 0.5753282843530179; Validation acc = 72.88\n",
            "Epoch 2:\n",
            "Batch 0 : training loss = 0.5513505339622498; training acc = 77.0\n",
            "Batch 20 : training loss = 0.5445799231529236; training acc = 75.5\n",
            "Batch 40 : training loss = 0.4747540354728699; training acc = 81.0\n",
            "Batch 60 : training loss = 0.462736040353775; training acc = 83.5\n",
            "Batch 80 : training loss = 0.42283686995506287; training acc = 80.5\n",
            "Epoch 2 : Validation loss = 0.45205127269029616; Validation acc = 80.04\n",
            "Epoch 3:\n",
            "Batch 0 : training loss = 0.4027142822742462; training acc = 82.0\n",
            "Batch 20 : training loss = 0.3983202874660492; training acc = 82.0\n",
            "Batch 40 : training loss = 0.3670922815799713; training acc = 83.5\n",
            "Batch 60 : training loss = 0.3821987807750702; training acc = 85.0\n",
            "Batch 80 : training loss = 0.34725138545036316; training acc = 85.5\n",
            "Epoch 3 : Validation loss = 0.4021555981040001; Validation acc = 82.12\n",
            "Epoch 4:\n",
            "Batch 0 : training loss = 0.30348289012908936; training acc = 88.0\n",
            "Batch 20 : training loss = 0.33015668392181396; training acc = 86.0\n",
            "Batch 40 : training loss = 0.30138063430786133; training acc = 88.5\n",
            "Batch 60 : training loss = 0.3319895267486572; training acc = 84.5\n",
            "Batch 80 : training loss = 0.30081236362457275; training acc = 86.5\n",
            "Epoch 4 : Validation loss = 0.3854411244392395; Validation acc = 82.68\n",
            "Epoch 5:\n",
            "Batch 0 : training loss = 0.2954472303390503; training acc = 88.5\n",
            "Batch 20 : training loss = 0.2726787328720093; training acc = 92.0\n",
            "Batch 40 : training loss = 0.3087763488292694; training acc = 86.5\n",
            "Batch 60 : training loss = 0.2713913917541504; training acc = 89.5\n",
            "Batch 80 : training loss = 0.2747592628002167; training acc = 89.5\n",
            "Epoch 5 : Validation loss = 0.3841853179782629; Validation acc = 82.74\n",
            "Epoch 5 : Test loss = 0.42333978731185196; Test acc = 80.472\n"
          ]
        }
      ],
      "source": [
        "train_losses= experiment(model_incr_min_freq  ,opt_incr_min_freq, criterion,train_dataloader=training_incr_min_freq_dataloader,validation_dataloader=valid_incr_min_freq_dataloader,testing_dataloader=test_incr_min_freq_dataloader)"
      ]
    },
    {
      "cell_type": "code",
      "execution_count": null,
      "metadata": {
        "id": "7rBUOxZ4KuSt"
      },
      "outputs": [],
      "source": [
        "GloveEmbeddings_incr_min_freq = get_glove_adapted_embeddings(loaded_glove_model, training_word2idx_incr_min_freq)"
      ]
    },
    {
      "cell_type": "code",
      "execution_count": null,
      "metadata": {
        "id": "n-86jMhoL-vh"
      },
      "outputs": [],
      "source": [
        "# Pre_trained model with fine_tunning\n",
        "pre_trained_model_incrfreq = PretrainedAveragingModel(300,torch.FloatTensor(GloveEmbeddings_incr_min_freq ), True)\n",
        "# Create an optimizer\n",
        "opt_pre_trained_model_incrfreq = optim.Adam(pre_trained_model_incrfreq.parameters(), lr=0.0025, betas=(0.9, 0.999))"
      ]
    },
    {
      "cell_type": "code",
      "execution_count": null,
      "metadata": {
        "colab": {
          "base_uri": "https://localhost:8080/"
        },
        "id": "Fllv8PkjL_BT",
        "outputId": "236bdb92-4abb-447e-9526-909e6fbea80f"
      },
      "outputs": [
        {
          "name": "stdout",
          "output_type": "stream",
          "text": [
            "Beginning training...\n",
            "Epoch 1:\n",
            "Batch 0 : training loss = 0.5392884016036987; training acc = 73.5\n",
            "Batch 20 : training loss = 0.4582284092903137; training acc = 82.0\n",
            "Batch 40 : training loss = 0.4759162664413452; training acc = 76.5\n",
            "Batch 60 : training loss = 0.4379523992538452; training acc = 82.5\n",
            "Batch 80 : training loss = 0.4021168053150177; training acc = 83.0\n",
            "Epoch 1 : Validation loss = 0.4171733462810516; Validation acc = 81.52\n",
            "Epoch 2:\n",
            "Batch 0 : training loss = 0.38240212202072144; training acc = 81.5\n",
            "Batch 20 : training loss = 0.3580056428909302; training acc = 84.5\n",
            "Batch 40 : training loss = 0.31604525446891785; training acc = 86.0\n",
            "Batch 60 : training loss = 0.3360649347305298; training acc = 87.0\n",
            "Batch 80 : training loss = 0.2831268608570099; training acc = 88.0\n",
            "Epoch 2 : Validation loss = 0.38232118435204027; Validation acc = 83.08\n",
            "Epoch 3:\n",
            "Batch 0 : training loss = 0.3137914538383484; training acc = 89.5\n",
            "Batch 20 : training loss = 0.2890395224094391; training acc = 90.0\n",
            "Batch 40 : training loss = 0.29489049315452576; training acc = 88.0\n",
            "Batch 60 : training loss = 0.2743755578994751; training acc = 88.0\n",
            "Batch 80 : training loss = 0.2744540274143219; training acc = 89.0\n",
            "Epoch 3 : Validation loss = 0.3749493405967951; Validation acc = 83.48\n",
            "Epoch 4:\n",
            "Batch 0 : training loss = 0.3205088675022125; training acc = 86.0\n",
            "Batch 20 : training loss = 0.23280847072601318; training acc = 92.0\n",
            "Batch 40 : training loss = 0.2863446772098541; training acc = 90.0\n",
            "Batch 60 : training loss = 0.21517044305801392; training acc = 91.0\n",
            "Batch 80 : training loss = 0.25335609912872314; training acc = 90.5\n",
            "Epoch 4 : Validation loss = 0.3802515633776784; Validation acc = 83.2\n",
            "Early stopping.\n",
            "Epoch 4 : Test loss = 0.42992357867211106; Test acc = 80.536\n"
          ]
        }
      ],
      "source": [
        "train_losses = experiment(pre_trained_model_incrfreq,opt_pre_trained_model_incrfreq, criterion,train_dataloader=training_incr_min_freq_dataloader,validation_dataloader=valid_incr_min_freq_dataloader,testing_dataloader=test_incr_min_freq_dataloader)"
      ]
    },
    {
      "cell_type": "code",
      "execution_count": null,
      "metadata": {
        "id": "hfysX5RxL_LO"
      },
      "outputs": [],
      "source": [
        "# Pre_trained model without fine_tunning\n",
        "pre_trained_model_incrfreq = PretrainedAveragingModel(300,torch.FloatTensor(GloveEmbeddings_incr_min_freq ), False)\n",
        "# Create an optimizer\n",
        "opt_pre_trained_model_incrfreq = optim.Adam(pre_trained_model_incrfreq.parameters(), lr=0.0025, betas=(0.9, 0.999))"
      ]
    },
    {
      "cell_type": "code",
      "execution_count": null,
      "metadata": {
        "colab": {
          "base_uri": "https://localhost:8080/"
        },
        "id": "cY0WK3QFMWJ_",
        "outputId": "e3247dd2-3dfc-47ad-b6f9-6bf2a618a497"
      },
      "outputs": [
        {
          "name": "stdout",
          "output_type": "stream",
          "text": [
            "Beginning training...\n",
            "Epoch 1:\n",
            "Batch 0 : training loss = 0.6929760575294495; training acc = 50.0\n",
            "Batch 20 : training loss = 0.680909276008606; training acc = 62.0\n",
            "Batch 40 : training loss = 0.6750553846359253; training acc = 61.0\n",
            "Batch 60 : training loss = 0.6568761467933655; training acc = 64.0\n",
            "Batch 80 : training loss = 0.6536227464675903; training acc = 65.5\n",
            "Epoch 1 : Validation loss = 0.6504841181635856; Validation acc = 65.52\n",
            "Epoch 2:\n",
            "Batch 0 : training loss = 0.6480254530906677; training acc = 67.5\n",
            "Batch 20 : training loss = 0.6509844064712524; training acc = 64.0\n",
            "Batch 40 : training loss = 0.6311001181602478; training acc = 67.5\n",
            "Batch 60 : training loss = 0.6327983736991882; training acc = 71.0\n",
            "Batch 80 : training loss = 0.642714262008667; training acc = 70.5\n",
            "Epoch 2 : Validation loss = 0.6281885457038879; Validation acc = 67.36\n",
            "Epoch 3:\n",
            "Batch 0 : training loss = 0.6183186173439026; training acc = 69.5\n",
            "Batch 20 : training loss = 0.641072154045105; training acc = 69.0\n",
            "Batch 40 : training loss = 0.6363434791564941; training acc = 66.5\n",
            "Batch 60 : training loss = 0.6199013590812683; training acc = 66.5\n",
            "Batch 80 : training loss = 0.6122310161590576; training acc = 70.0\n",
            "Epoch 3 : Validation loss = 0.6110932147502899; Validation acc = 68.84\n",
            "Epoch 4:\n",
            "Batch 0 : training loss = 0.6184433698654175; training acc = 69.0\n",
            "Batch 20 : training loss = 0.5879538655281067; training acc = 76.5\n",
            "Batch 40 : training loss = 0.5739037394523621; training acc = 75.5\n",
            "Batch 60 : training loss = 0.6102064251899719; training acc = 66.5\n",
            "Batch 80 : training loss = 0.5882365107536316; training acc = 78.0\n",
            "Epoch 4 : Validation loss = 0.5975527323782444; Validation acc = 70.08\n",
            "Epoch 5:\n",
            "Batch 0 : training loss = 0.6080660820007324; training acc = 70.5\n",
            "Batch 20 : training loss = 0.6201611161231995; training acc = 67.5\n",
            "Batch 40 : training loss = 0.5780951976776123; training acc = 73.0\n",
            "Batch 60 : training loss = 0.5948121547698975; training acc = 69.0\n",
            "Batch 80 : training loss = 0.5915322303771973; training acc = 71.0\n",
            "Epoch 5 : Validation loss = 0.5864405758678913; Validation acc = 71.06\n",
            "Epoch 5 : Test loss = 0.5925386545658111; Test acc = 70.512\n"
          ]
        }
      ],
      "source": [
        "train_losses = experiment(pre_trained_model_incrfreq,opt_pre_trained_model_incrfreq, criterion,train_dataloader=training_incr_min_freq_dataloader,validation_dataloader=valid_incr_min_freq_dataloader,testing_dataloader=test_incr_min_freq_dataloader)"
      ]
    },
    {
      "cell_type": "markdown",
      "source": [
        "> **Analyzing Results:**\n",
        "- when we increase min_freq from 5 to 20, we decrease the vocabularly size from from 31733 to 12720 which is less than the half size of the vocabularly. So the probability of losing important words that are useful for classification is high and this explains the drop in the validation accuracy for all the models. But this drop is not significant and this may be because the 12720 words that remain in the vocabularly are the most important ones."
      ],
      "metadata": {
        "id": "mXwPSWL7OyF0"
      }
    },
    {
      "cell_type": "markdown",
      "metadata": {
        "id": "KTl3gbSUMBLw"
      },
      "source": [
        "## 5 - Creating a LSTM model"
      ]
    },
    {
      "cell_type": "code",
      "execution_count": null,
      "metadata": {
        "colab": {
          "base_uri": "https://localhost:8080/"
        },
        "id": "8yaj6nLJMDR4",
        "outputId": "57f26c7d-a190-43a5-ec95-69afbe773437"
      },
      "outputs": [
        {
          "name": "stdout",
          "output_type": "stream",
          "text": [
            "tensor([[[ 0.1784, -0.0551,  0.1028]],\n",
            "\n",
            "        [[ 0.0937,  0.2042,  0.0296]],\n",
            "\n",
            "        [[ 0.0370,  0.1929,  0.0866]],\n",
            "\n",
            "        [[ 0.1594, -0.0085,  0.0900]],\n",
            "\n",
            "        [[ 0.0165,  0.3899, -0.0521]]], grad_fn=<StackBackward0>)\n",
            "(tensor([[[ 0.0165,  0.3899, -0.0521]]], grad_fn=<StackBackward0>), tensor([[[ 0.0599,  0.5121, -0.2129]]], grad_fn=<StackBackward0>))\n"
          ]
        }
      ],
      "source": [
        "# Create a toy example of LSTM: \n",
        "lstm = nn.LSTM(3, 3)  # Input dim is 3, output dim is 3\n",
        "inputs = [torch.randn(1, 3) for _ in range(5)]  # make a sequence of length 5\n",
        "\n",
        "# LSTMs expect inputs having 3 dimensions:\n",
        "# - The first dimension is the temporal dimension, along which we (in our case) have the different words\n",
        "# - The second dimension is the batch dimension, along which we stack the independant batches\n",
        "# - The third dimension is the feature dimension, along which are the features of the vector representing the words\n",
        "\n",
        "# In our toy case, we have inputs and outputs containing 3 features (third dimension !)\n",
        "# We created a sequence of 5 different inputs (first dimension !)\n",
        "# We don't use batch (the second dimension will have one lement)\n",
        "\n",
        "# We need an initial hidden state, of the right sizes for dimension 2/3, but with only one temporal element:\n",
        "# Here, it is:\n",
        "hidden = (torch.randn(1, 1, 3),\n",
        "          torch.randn(1, 1, 3))\n",
        "# Why do we create a tuple of two tensors ? Because we use LSTMs: remember that they use two sets of weights,\n",
        "# and two hidden states (Hidden state, and Cell state).\n",
        "# If you don't remember, read: https://colah.github.io/posts/2015-08-Understanding-LSTMs/\n",
        "# If we used a classic RNN, we would simply have:\n",
        "# hidden = torch.randn(1, 1, 3)\n",
        "\n",
        "# The naive way of applying a lstm to inputs is to apply it one step at a time, and loop through the sequence\n",
        "for i in inputs:\n",
        "    # After each step, hidden contains the hidden states (remember, it's a tuple of two states).\n",
        "    out, hidden = lstm(i.view(1, 1, -1), hidden)\n",
        "    \n",
        "# Alternatively, we can do the entire sequence all at once.\n",
        "# The first value returned by LSTM is all of the Hidden states throughout the sequence.\n",
        "# The second is just the most recent Hidden state and Cell state (you can compare the values)\n",
        "# The reason for this is that:\n",
        "# \"out\" will give you access to all hidden states in the sequence, for each temporal step\n",
        "# \"hidden\" will allow you to continue the sequence and backpropagate later, with another sequence\n",
        "inputs = torch.cat(inputs).view(len(inputs), 1, -1)\n",
        "hidden = (torch.randn(1, 1, 3), torch.randn(1, 1, 3))  # Re-initialize\n",
        "out, hidden = lstm(inputs, hidden)\n",
        "print(out)\n",
        "print(hidden)"
      ]
    },
    {
      "cell_type": "markdown",
      "metadata": {
        "id": "QxCCoIVwMEoX"
      },
      "source": [
        "We'll implement now a LSTM model, taking the same inputs and also outputing a score for the sentence."
      ]
    },
    {
      "cell_type": "markdown",
      "metadata": {
        "id": "OQewZ8jVdUde"
      },
      "source": [
        "<div class='alert alert-block alert-info'>\n",
        "            Code:</div>"
      ]
    },
    {
      "cell_type": "code",
      "execution_count": null,
      "metadata": {
        "id": "7obmINvlMGCB"
      },
      "outputs": [],
      "source": [
        "# Models are usually implemented as custom nn.Module subclass\n",
        "# We need to redefine the __init__ method, which creates the object\n",
        "# We also need to redefine the forward method, which transform the input into outputs\n",
        "\n",
        "class LSTMModel(nn.Module):\n",
        "    def __init__(self, embedding_dim, vocabulary_size, hidden_dim, embeddings=None, fine_tuning=False):\n",
        "        # To complete\n",
        "      super().__init__()\n",
        "      self.hidden_dim = hidden_dim\n",
        "      if embeddings is None :\n",
        "        self.embeddings = nn.Embedding(embedding_dim=embedding_dim,num_embeddings=vocabulary_size,padding_idx=0) \n",
        "      else :\n",
        "        self.word_embeddings=embeddings\n",
        "        self.embeddings.weight.requires_grad=fine_tuning\n",
        "      self.lstm = nn.LSTM(input_size=embedding_dim, hidden_size=hidden_dim,batch_first=True)\n",
        "      self.linear = nn.Linear(in_features=hidden_dim,out_features=1)\n",
        " \n",
        "    def forward(self, inputs):\n",
        "      # To complete \n",
        "      emb=self.embeddings(inputs)\n",
        "      out, _ = self.lstm(emb)    \n",
        "      output=self.linear(out[:,-1,:]).squeeze()\n",
        "      return output"
      ]
    },
    {
      "cell_type": "markdown",
      "metadata": {
        "id": "55yoCnZCMMzh"
      },
      "source": [
        "<div class='alert alert-block alert-warning'>\n",
        "            Questions:</div>\n",
        "            \n",
        "- What do you see with a simple application of LSTM models ? List the possible reasons for that result (these could be linked to the data, the way it is pre-processed, the architecture, and the training procedure). "
      ]
    },
    {
      "cell_type": "code",
      "execution_count": null,
      "metadata": {
        "id": "NeihrVgpMILu"
      },
      "outputs": [],
      "source": [
        "lstm_model = LSTMModel(300, len(training_word2idx),128)\n",
        "# Create an optimizer\n",
        "lstm_opt = optim.Adam(lstm_model.parameters(), lr=0.0025, betas=(0.9, 0.999))\n",
        "# The criterion is a binary cross entropy loss based on logits - meaning that the sigmoid is integrated into the criterion\n",
        "criterion = nn.BCEWithLogitsLoss()"
      ]
    },
    {
      "cell_type": "code",
      "execution_count": null,
      "metadata": {
        "colab": {
          "base_uri": "https://localhost:8080/"
        },
        "id": "IS6apFUyMTdE",
        "outputId": "d5acc196-2ad0-48dd-986e-2cdfdd62ce87"
      },
      "outputs": [
        {
          "name": "stdout",
          "output_type": "stream",
          "text": [
            "Beginning training...\n",
            "Epoch 1:\n",
            "Batch 0 : training loss = 0.6899906992912292; training acc = 51.5\n",
            "Batch 20 : training loss = 0.6957105994224548; training acc = 50.0\n",
            "Batch 40 : training loss = 0.6865173578262329; training acc = 56.5\n",
            "Batch 60 : training loss = 0.6813560724258423; training acc = 55.5\n",
            "Batch 80 : training loss = 0.6773565411567688; training acc = 57.0\n",
            "Epoch 1 : Validation loss = 0.6698521968722343; Validation acc = 58.74\n",
            "Epoch 2:\n",
            "Batch 0 : training loss = 0.6694211363792419; training acc = 61.0\n",
            "Batch 20 : training loss = 0.588729739189148; training acc = 70.5\n",
            "Batch 40 : training loss = 0.6004202365875244; training acc = 67.5\n",
            "Batch 60 : training loss = 0.5703847408294678; training acc = 69.5\n",
            "Batch 80 : training loss = 0.5817224383354187; training acc = 68.5\n",
            "Epoch 2 : Validation loss = 0.6119606697559357; Validation acc = 68.4\n",
            "Epoch 3:\n",
            "Batch 0 : training loss = 0.5132859945297241; training acc = 74.5\n",
            "Batch 20 : training loss = 0.525866687297821; training acc = 76.0\n",
            "Batch 40 : training loss = 0.5130186676979065; training acc = 76.0\n",
            "Batch 60 : training loss = 0.49377185106277466; training acc = 76.0\n",
            "Batch 80 : training loss = 0.42913591861724854; training acc = 80.5\n",
            "Epoch 3 : Validation loss = 0.5783201386034489; Validation acc = 73.68\n",
            "Epoch 4:\n",
            "Batch 0 : training loss = 0.34435027837753296; training acc = 86.5\n",
            "Batch 20 : training loss = 0.39614081382751465; training acc = 86.0\n",
            "Batch 40 : training loss = 0.36511915922164917; training acc = 83.0\n",
            "Batch 60 : training loss = 0.3251226544380188; training acc = 86.0\n",
            "Batch 80 : training loss = 0.31877651810646057; training acc = 86.0\n",
            "Epoch 4 : Validation loss = 0.5863651491701602; Validation acc = 74.28\n",
            "Early stopping.\n",
            "Epoch 4 : Test loss = 0.6246497383266687; Test acc = 72.704\n"
          ]
        }
      ],
      "source": [
        "train_losses = experiment(lstm_model,lstm_opt,criterion)"
      ]
    },
    {
      "cell_type": "markdown",
      "metadata": {
        "id": "jVVa05aP2M18"
      },
      "source": [
        "> **Answer:** <br>\n",
        "We notice that with the LSTM model we obatin worse performances than the no pre-trained averaging model and the pre-trained fine tuned averaging model. Two possible reasons behind this : \n",
        "- **The data samples are very long texts** so this long term dependancy may leads to forgetting especially the words that are in the beginning of the text and that they are useful to make the classification decision. In this case of data **we need an attention mechanism** in order to feed to LSTM the words that it has to focus on to make its decision.\n",
        "- LSTM may have encountred **exploding gradient problem** since we notice that there is some instability in the loss decrease (loss decreases and then increases). **So we need to clip the gradient** during training to overcome this problem. "
      ]
    },
    {
      "cell_type": "markdown",
      "metadata": {
        "id": "RsPQtHgBRiVl"
      },
      "source": [
        "## 6 - Fine-tuning a Bert model\n",
        "\n",
        "Fine-tune the lightest BERT model available on IMDB data and compare it with previous results ! You should simply follow the tutorial and slightly adapt it to our way of obtaining the data:\n",
        "https://huggingface.co/transformers/custom_datasets.html#seq-imdb"
      ]
    },
    {
      "cell_type": "code",
      "execution_count": null,
      "metadata": {
        "colab": {
          "base_uri": "https://localhost:8080/"
        },
        "id": "TNG_DFckXKu5",
        "outputId": "4c5b8884-5d66-4907-9fec-4791e461e284"
      },
      "outputs": [
        {
          "name": "stdout",
          "output_type": "stream",
          "text": [
            "Looking in indexes: https://pypi.org/simple, https://us-python.pkg.dev/colab-wheels/public/simple/\n",
            "Collecting transformers\n",
            "  Downloading transformers-4.24.0-py3-none-any.whl (5.5 MB)\n",
            "\u001b[K     |████████████████████████████████| 5.5 MB 35.1 MB/s \n",
            "\u001b[?25hRequirement already satisfied: importlib-metadata in /usr/local/lib/python3.7/dist-packages (from transformers) (4.13.0)\n",
            "Requirement already satisfied: filelock in /usr/local/lib/python3.7/dist-packages (from transformers) (3.8.0)\n",
            "Requirement already satisfied: packaging>=20.0 in /usr/local/lib/python3.7/dist-packages (from transformers) (21.3)\n",
            "Requirement already satisfied: numpy>=1.17 in /usr/local/lib/python3.7/dist-packages (from transformers) (1.21.6)\n",
            "Requirement already satisfied: requests in /usr/local/lib/python3.7/dist-packages (from transformers) (2.23.0)\n",
            "Requirement already satisfied: tqdm>=4.27 in /usr/local/lib/python3.7/dist-packages (from transformers) (4.64.1)\n",
            "Requirement already satisfied: regex!=2019.12.17 in /usr/local/lib/python3.7/dist-packages (from transformers) (2022.6.2)\n",
            "Collecting tokenizers!=0.11.3,<0.14,>=0.11.1\n",
            "  Downloading tokenizers-0.13.1-cp37-cp37m-manylinux_2_17_x86_64.manylinux2014_x86_64.whl (7.6 MB)\n",
            "\u001b[K     |████████████████████████████████| 7.6 MB 59.5 MB/s \n",
            "\u001b[?25hCollecting huggingface-hub<1.0,>=0.10.0\n",
            "  Downloading huggingface_hub-0.10.1-py3-none-any.whl (163 kB)\n",
            "\u001b[K     |████████████████████████████████| 163 kB 74.1 MB/s \n",
            "\u001b[?25hRequirement already satisfied: pyyaml>=5.1 in /usr/local/lib/python3.7/dist-packages (from transformers) (6.0)\n",
            "Requirement already satisfied: typing-extensions>=3.7.4.3 in /usr/local/lib/python3.7/dist-packages (from huggingface-hub<1.0,>=0.10.0->transformers) (4.1.1)\n",
            "Requirement already satisfied: pyparsing!=3.0.5,>=2.0.2 in /usr/local/lib/python3.7/dist-packages (from packaging>=20.0->transformers) (3.0.9)\n",
            "Requirement already satisfied: zipp>=0.5 in /usr/local/lib/python3.7/dist-packages (from importlib-metadata->transformers) (3.10.0)\n",
            "Requirement already satisfied: certifi>=2017.4.17 in /usr/local/lib/python3.7/dist-packages (from requests->transformers) (2022.9.24)\n",
            "Requirement already satisfied: chardet<4,>=3.0.2 in /usr/local/lib/python3.7/dist-packages (from requests->transformers) (3.0.4)\n",
            "Requirement already satisfied: urllib3!=1.25.0,!=1.25.1,<1.26,>=1.21.1 in /usr/local/lib/python3.7/dist-packages (from requests->transformers) (1.24.3)\n",
            "Requirement already satisfied: idna<3,>=2.5 in /usr/local/lib/python3.7/dist-packages (from requests->transformers) (2.10)\n",
            "Installing collected packages: tokenizers, huggingface-hub, transformers\n",
            "Successfully installed huggingface-hub-0.10.1 tokenizers-0.13.1 transformers-4.24.0\n"
          ]
        }
      ],
      "source": [
        "!pip install transformers\n",
        "import transformers"
      ]
    },
    {
      "cell_type": "markdown",
      "metadata": {
        "id": "4Yh1SijcdUdf"
      },
      "source": [
        "<div class='alert alert-block alert-info'>\n",
        "            Code:</div>"
      ]
    },
    {
      "cell_type": "code",
      "execution_count": null,
      "metadata": {
        "colab": {
          "base_uri": "https://localhost:8080/",
          "height": 145,
          "referenced_widgets": [
            "69abe26b2a954afdba2d5f2b863cb609",
            "cf1648363f0f4777b6c24c6a9a7f81f1",
            "2f62a94126fd4d91a2665b99fe1f3d40",
            "bc31caafb3c949a7b4452a44b84d12be",
            "2cf75a45afaa417689276b00ccf389a0",
            "54f99b6a8016457a96f1eb700046d6bd",
            "53a654d0c0d84165a2a28315e926e56e",
            "6f5674af1a7047ffa74964aa29dc4e00",
            "6f25221c5a16415da5f6a4bbc9accce1",
            "660b1c3dbb3b432d9ce5d5d21970b01e",
            "2dd733b060ce4a2e8c8a3839ff6b320e",
            "11cd675762ff4eeea58b33148d5ff2e9",
            "9268954b554e4549baacb55dd7b77d03",
            "c1cc3bc6739948bda1a5990dab334aa3",
            "22ca2f49d29b4ec880d35503a6ac778e",
            "2f48ad3372944b8bb041dbc1f7ca250c",
            "f1cbc86e7a114cc5ae8e25a3578a240d",
            "d9381b90a043437e8c5ddfc429a479ec",
            "4965eb242adc4347bb4d7d301b05708b",
            "d81acb800ebc4c64b0d14966db0ce238",
            "e075afa998a94e8897e56da1f03ef6e3",
            "590aecdb224d47bfa4b69293b29fe782",
            "f92e8a6e7b34480b9bbcbb3709b7014e",
            "338ebbb8239440719ff213066bc9a961",
            "1bb55ec871f94469b43f957aa189a6db",
            "c6b3de87a1484ee088ec2d4ea9e238d0",
            "08c2103fb1d6419b80106cd73fd02e10",
            "c8e0a77943aa4a62aa12c4e4fced754c",
            "d3dc26644c884cdab8cc0717a459f4b8",
            "fc8d1a46ba8d4032b8f019c762c41613",
            "28b2a86ce1a043d0ba5c433bd1732884",
            "758cd4f3bf25415480f70b4be1903e17",
            "9f079c6aaaef44ecb335f4e424308876",
            "0c3fa36abf5b492c8835a81e4cf2cdfe",
            "640297f85c804e9684855bc06d408fc3",
            "190593b804b24031b3632da6faccd970",
            "3d17ba88998040e6b4b132c321e8feb9",
            "511372db2b514d46ae6d0771c6fae4c9",
            "adf4ee3d62b4441a9b2d06c5abc95d7d",
            "ca3122b965a8430c8ed833846759b3d5",
            "75844b93efb14d8c97c1fce516173625",
            "93ae1bdf948b4fc9b9e80fc51429d063",
            "cdcb896794d04679997304d377aa4ae8",
            "f8d21d360fb34cc8b7b81586675ccce0"
          ]
        },
        "id": "STVZioijXiH4",
        "outputId": "ca2895c2-7e72-4e30-eaa7-30d3b09ffe2a"
      },
      "outputs": [
        {
          "data": {
            "application/vnd.jupyter.widget-view+json": {
              "model_id": "69abe26b2a954afdba2d5f2b863cb609",
              "version_major": 2,
              "version_minor": 0
            },
            "text/plain": [
              "Downloading:   0%|          | 0.00/28.0 [00:00<?, ?B/s]"
            ]
          },
          "metadata": {},
          "output_type": "display_data"
        },
        {
          "data": {
            "application/vnd.jupyter.widget-view+json": {
              "model_id": "11cd675762ff4eeea58b33148d5ff2e9",
              "version_major": 2,
              "version_minor": 0
            },
            "text/plain": [
              "Downloading:   0%|          | 0.00/232k [00:00<?, ?B/s]"
            ]
          },
          "metadata": {},
          "output_type": "display_data"
        },
        {
          "data": {
            "application/vnd.jupyter.widget-view+json": {
              "model_id": "f92e8a6e7b34480b9bbcbb3709b7014e",
              "version_major": 2,
              "version_minor": 0
            },
            "text/plain": [
              "Downloading:   0%|          | 0.00/466k [00:00<?, ?B/s]"
            ]
          },
          "metadata": {},
          "output_type": "display_data"
        },
        {
          "data": {
            "application/vnd.jupyter.widget-view+json": {
              "model_id": "0c3fa36abf5b492c8835a81e4cf2cdfe",
              "version_major": 2,
              "version_minor": 0
            },
            "text/plain": [
              "Downloading:   0%|          | 0.00/483 [00:00<?, ?B/s]"
            ]
          },
          "metadata": {},
          "output_type": "display_data"
        }
      ],
      "source": [
        "# We will use the DistilBert tokenizer\n",
        "from transformers import DistilBertTokenizerFast\n",
        "tokenizer = DistilBertTokenizerFast.from_pretrained('distilbert-base-uncased')"
      ]
    },
    {
      "cell_type": "code",
      "execution_count": null,
      "metadata": {
        "id": "UJa-pg40XiKt"
      },
      "outputs": [],
      "source": [
        "# Passing data to the tokenizer using truncation=True and padding=True so that sequences are truncated in order to have as a limit the model's maximum input length\n",
        "# and are padded to the same length. \n",
        "train_encodings = tokenizer(train_texts, truncation=True, padding=True)\n",
        "val_encodings = tokenizer(val_texts, truncation=True, padding=True)\n",
        "test_encodings = tokenizer(test_texts, truncation=True, padding=True)"
      ]
    },
    {
      "cell_type": "code",
      "execution_count": null,
      "metadata": {
        "id": "rpLSxtyWXiOF"
      },
      "outputs": [],
      "source": [
        "# Turning our labels and encodings into a Dataset object\n",
        "class IMDbDataset(torch.utils.data.Dataset):\n",
        "    def __init__(self, encodings, labels):\n",
        "        self.encodings = encodings\n",
        "        self.labels = labels\n",
        "\n",
        "    def __getitem__(self, idx):\n",
        "        item = {key: torch.tensor(val[idx]) for key, val in self.encodings.items()}\n",
        "        item['labels'] = torch.tensor(self.labels[idx])\n",
        "        return item\n",
        "\n",
        "    def __len__(self):\n",
        "        return len(self.labels)"
      ]
    },
    {
      "cell_type": "code",
      "execution_count": null,
      "metadata": {
        "id": "gYFrFRAzdUdg"
      },
      "outputs": [],
      "source": [
        "train_dataset = IMDbDataset(train_encodings, train_labels)\n",
        "val_dataset = IMDbDataset(val_encodings, val_labels)\n",
        "test_dataset = IMDbDataset(test_encodings, test_labels)"
      ]
    },
    {
      "cell_type": "code",
      "execution_count": null,
      "metadata": {
        "colab": {
          "base_uri": "https://localhost:8080/"
        },
        "id": "3MH1ZB1V402M",
        "outputId": "aca207e0-fe2f-4729-c3de-cf9b29f0c99d"
      },
      "outputs": [
        {
          "name": "stderr",
          "output_type": "stream",
          "text": [
            "Some weights of the model checkpoint at distilbert-base-uncased were not used when initializing DistilBertForSequenceClassification: ['vocab_transform.bias', 'vocab_layer_norm.bias', 'vocab_layer_norm.weight', 'vocab_transform.weight', 'vocab_projector.weight', 'vocab_projector.bias']\n",
            "- This IS expected if you are initializing DistilBertForSequenceClassification from the checkpoint of a model trained on another task or with another architecture (e.g. initializing a BertForSequenceClassification model from a BertForPreTraining model).\n",
            "- This IS NOT expected if you are initializing DistilBertForSequenceClassification from the checkpoint of a model that you expect to be exactly identical (initializing a BertForSequenceClassification model from a BertForSequenceClassification model).\n",
            "Some weights of DistilBertForSequenceClassification were not initialized from the model checkpoint at distilbert-base-uncased and are newly initialized: ['pre_classifier.weight', 'classifier.weight', 'classifier.bias', 'pre_classifier.bias']\n",
            "You should probably TRAIN this model on a down-stream task to be able to use it for predictions and inference.\n"
          ]
        }
      ],
      "source": [
        "# Fine-tunning \n",
        "from transformers import DistilBertForSequenceClassification, AdamW\n",
        "device = torch.device('cuda') if torch.cuda.is_available() else torch.device('cpu')\n",
        "model = DistilBertForSequenceClassification.from_pretrained('distilbert-base-uncased')\n",
        "model.to(device)\n",
        "\n",
        "train_loader = DataLoader(train_dataset, batch_size=16, shuffle=True)\n",
        "valid_loader = DataLoader(val_dataset, batch_size=120, shuffle=True)\n",
        "test_loader = DataLoader(test_dataset, batch_size=120, shuffle=True)\n",
        "opt = AdamW(model.parameters(), lr=5e-5,no_deprecation_warning=True)"
      ]
    },
    {
      "cell_type": "code",
      "execution_count": null,
      "metadata": {
        "id": "bk3F9QjY574m"
      },
      "outputs": [],
      "source": [
        "def train_epoch_bert(model, opt,dataloader):\n",
        "    model.train()\n",
        "    losses = []\n",
        "    for i,batch in enumerate(train_loader):\n",
        "        opt.zero_grad()\n",
        "        input_ids = batch['input_ids'].to(device)\n",
        "        attention_mask = batch['attention_mask'].to(device)\n",
        "        labels = batch['labels'].to(device)\n",
        "        outputs = model(input_ids, attention_mask=attention_mask, labels=labels)\n",
        "        loss = outputs[0]\n",
        "        loss.backward()\n",
        "        opt.step()\n",
        "        num_corrects = torch.sum(torch.argmax(outputs[1],axis=1)==labels)\n",
        "        acc = 100.0 * num_corrects/len(labels)\n",
        "        \n",
        "        if (i%250 == 0):\n",
        "            print(\"Batch \" + str(i) + \" : training loss = \" + str(loss.item()) + \"; training acc = \" + str(acc.item()))\n",
        "    return losses"
      ]
    },
    {
      "cell_type": "code",
      "execution_count": null,
      "metadata": {
        "id": "uKtvhKW86CD9"
      },
      "outputs": [],
      "source": [
        "def eval_model_bert(model, evalloader):\n",
        "    model.eval()\n",
        "    total_epoch_loss = 0\n",
        "    total_epoch_acc = 0\n",
        "    with torch.no_grad():\n",
        "        for i, batch in enumerate(evalloader):\n",
        "          input_ids = batch['input_ids'].to(device)\n",
        "          attention_mask = batch['attention_mask'].to(device)\n",
        "          labels = batch['labels'].to(device)\n",
        "          outputs = model(input_ids, attention_mask=attention_mask, labels=labels)\n",
        "          loss = outputs[0]\n",
        "          num_corrects = torch.sum(torch.argmax(outputs[1],axis=1)==labels)\n",
        "          acc = 100.0 * num_corrects/len(labels)\n",
        "          total_epoch_loss += loss\n",
        "          total_epoch_acc += acc.item()\n",
        "\n",
        "    return total_epoch_loss/(i+1), total_epoch_acc/(i+1)"
      ]
    },
    {
      "cell_type": "code",
      "execution_count": null,
      "metadata": {
        "id": "FhCgaxVo6MEH"
      },
      "outputs": [],
      "source": [
        "def experiment_bert(model, opt, num_epochs = 1, early_stopping = True):\n",
        "    train_losses = []\n",
        "    if early_stopping: \n",
        "        best_valid_loss = 10. \n",
        "    print(\"Beginning training...\")\n",
        "    for e in range(num_epochs):\n",
        "        print(\"Epoch \" + str(e+1) + \":\")\n",
        "        train_losses += train_epoch_bert(model, opt,train_loader)\n",
        "        valid_loss, valid_acc = eval_model_bert(model,valid_loader)\n",
        "        print(\"Epoch \" + str(e+1) + \" : Validation loss = \" + str(valid_loss) + \"; Validation acc = \" + str(valid_acc))\n",
        "        if early_stopping:\n",
        "            if valid_loss < best_valid_loss:\n",
        "                best_valid_loss = valid_loss\n",
        "            else:\n",
        "                print(\"Early stopping.\")\n",
        "                break  \n",
        "    test_loss, test_acc = eval_model_bert(model,test_loader)\n",
        "    print(\"Epoch \" + str(e+1) + \" : Test loss = \" + str(test_loss) + \"; Test acc = \" + str(test_acc))\n",
        "    return train_losses"
      ]
    },
    {
      "cell_type": "code",
      "execution_count": null,
      "metadata": {
        "colab": {
          "base_uri": "https://localhost:8080/"
        },
        "id": "VjtGiPph--qs",
        "outputId": "4bde86ff-e8c5-44c9-eae9-0821bab6a4ac"
      },
      "outputs": [
        {
          "output_type": "stream",
          "name": "stdout",
          "text": [
            "Beginning training...\n",
            "Epoch 1:\n",
            "Batch 0 : training loss = 0.3623630106449127; training acc = 81.25\n",
            "Batch 250 : training loss = 0.01863350346684456; training acc = 100.0\n",
            "Batch 500 : training loss = 0.031174160540103912; training acc = 100.0\n",
            "Batch 750 : training loss = 0.024837477132678032; training acc = 100.0\n",
            "Batch 1000 : training loss = 0.006331607699394226; training acc = 100.0\n",
            "Batch 1250 : training loss = 0.13057544827461243; training acc = 93.75\n",
            "Batch 1500 : training loss = 0.13297726213932037; training acc = 93.75\n",
            "Epoch 1 : Validation loss = tensor(0.0651, device='cuda:0'); Validation acc = 98.6706406729562\n",
            "Epoch 1 : Test loss = tensor(0.1942, device='cuda:0'); Test acc = 92.4441836781479\n"
          ]
        }
      ],
      "source": [
        "train_losses_bert = experiment_bert(model,opt)"
      ]
    },
    {
      "cell_type": "markdown",
      "metadata": {
        "id": "o4Fiigd1DKpV"
      },
      "source": [
        ">**comments:**<br>\n",
        "We notice that BERT model gives the best performances compared to those of the previous models since we obtain a validation accuracy of 98.67 and a test accuracy of 92.444. In fact, this model doesn't present the problems encountred in the LSTM model since it capture the important words for classification although the fact that the data samples are very long texts and it also doesn't present an exploding gradient problem. "
      ]
    }
  ],
  "metadata": {
    "accelerator": "GPU",
    "colab": {
      "provenance": []
    },
    "gpuClass": "standard",
    "kernelspec": {
      "display_name": "Python 3",
      "language": "python",
      "name": "python3"
    },
    "language_info": {
      "codemirror_mode": {
        "name": "ipython",
        "version": 3
      },
      "file_extension": ".py",
      "mimetype": "text/x-python",
      "name": "python",
      "nbconvert_exporter": "python",
      "pygments_lexer": "ipython3",
      "version": "3.7.10"
    },
    "widgets": {
      "application/vnd.jupyter.widget-state+json": {
        "08c2103fb1d6419b80106cd73fd02e10": {
          "model_module": "@jupyter-widgets/base",
          "model_module_version": "1.2.0",
          "model_name": "LayoutModel",
          "state": {
            "_model_module": "@jupyter-widgets/base",
            "_model_module_version": "1.2.0",
            "_model_name": "LayoutModel",
            "_view_count": null,
            "_view_module": "@jupyter-widgets/base",
            "_view_module_version": "1.2.0",
            "_view_name": "LayoutView",
            "align_content": null,
            "align_items": null,
            "align_self": null,
            "border": null,
            "bottom": null,
            "display": null,
            "flex": null,
            "flex_flow": null,
            "grid_area": null,
            "grid_auto_columns": null,
            "grid_auto_flow": null,
            "grid_auto_rows": null,
            "grid_column": null,
            "grid_gap": null,
            "grid_row": null,
            "grid_template_areas": null,
            "grid_template_columns": null,
            "grid_template_rows": null,
            "height": null,
            "justify_content": null,
            "justify_items": null,
            "left": null,
            "margin": null,
            "max_height": null,
            "max_width": null,
            "min_height": null,
            "min_width": null,
            "object_fit": null,
            "object_position": null,
            "order": null,
            "overflow": null,
            "overflow_x": null,
            "overflow_y": null,
            "padding": null,
            "right": null,
            "top": null,
            "visibility": null,
            "width": null
          }
        },
        "0c3fa36abf5b492c8835a81e4cf2cdfe": {
          "model_module": "@jupyter-widgets/controls",
          "model_module_version": "1.5.0",
          "model_name": "HBoxModel",
          "state": {
            "_dom_classes": [],
            "_model_module": "@jupyter-widgets/controls",
            "_model_module_version": "1.5.0",
            "_model_name": "HBoxModel",
            "_view_count": null,
            "_view_module": "@jupyter-widgets/controls",
            "_view_module_version": "1.5.0",
            "_view_name": "HBoxView",
            "box_style": "",
            "children": [
              "IPY_MODEL_640297f85c804e9684855bc06d408fc3",
              "IPY_MODEL_190593b804b24031b3632da6faccd970",
              "IPY_MODEL_3d17ba88998040e6b4b132c321e8feb9"
            ],
            "layout": "IPY_MODEL_511372db2b514d46ae6d0771c6fae4c9"
          }
        },
        "11cd675762ff4eeea58b33148d5ff2e9": {
          "model_module": "@jupyter-widgets/controls",
          "model_module_version": "1.5.0",
          "model_name": "HBoxModel",
          "state": {
            "_dom_classes": [],
            "_model_module": "@jupyter-widgets/controls",
            "_model_module_version": "1.5.0",
            "_model_name": "HBoxModel",
            "_view_count": null,
            "_view_module": "@jupyter-widgets/controls",
            "_view_module_version": "1.5.0",
            "_view_name": "HBoxView",
            "box_style": "",
            "children": [
              "IPY_MODEL_9268954b554e4549baacb55dd7b77d03",
              "IPY_MODEL_c1cc3bc6739948bda1a5990dab334aa3",
              "IPY_MODEL_22ca2f49d29b4ec880d35503a6ac778e"
            ],
            "layout": "IPY_MODEL_2f48ad3372944b8bb041dbc1f7ca250c"
          }
        },
        "190593b804b24031b3632da6faccd970": {
          "model_module": "@jupyter-widgets/controls",
          "model_module_version": "1.5.0",
          "model_name": "FloatProgressModel",
          "state": {
            "_dom_classes": [],
            "_model_module": "@jupyter-widgets/controls",
            "_model_module_version": "1.5.0",
            "_model_name": "FloatProgressModel",
            "_view_count": null,
            "_view_module": "@jupyter-widgets/controls",
            "_view_module_version": "1.5.0",
            "_view_name": "ProgressView",
            "bar_style": "success",
            "description": "",
            "description_tooltip": null,
            "layout": "IPY_MODEL_75844b93efb14d8c97c1fce516173625",
            "max": 483,
            "min": 0,
            "orientation": "horizontal",
            "style": "IPY_MODEL_93ae1bdf948b4fc9b9e80fc51429d063",
            "value": 483
          }
        },
        "1bb55ec871f94469b43f957aa189a6db": {
          "model_module": "@jupyter-widgets/controls",
          "model_module_version": "1.5.0",
          "model_name": "FloatProgressModel",
          "state": {
            "_dom_classes": [],
            "_model_module": "@jupyter-widgets/controls",
            "_model_module_version": "1.5.0",
            "_model_name": "FloatProgressModel",
            "_view_count": null,
            "_view_module": "@jupyter-widgets/controls",
            "_view_module_version": "1.5.0",
            "_view_name": "ProgressView",
            "bar_style": "success",
            "description": "",
            "description_tooltip": null,
            "layout": "IPY_MODEL_fc8d1a46ba8d4032b8f019c762c41613",
            "max": 466062,
            "min": 0,
            "orientation": "horizontal",
            "style": "IPY_MODEL_28b2a86ce1a043d0ba5c433bd1732884",
            "value": 466062
          }
        },
        "22ca2f49d29b4ec880d35503a6ac778e": {
          "model_module": "@jupyter-widgets/controls",
          "model_module_version": "1.5.0",
          "model_name": "HTMLModel",
          "state": {
            "_dom_classes": [],
            "_model_module": "@jupyter-widgets/controls",
            "_model_module_version": "1.5.0",
            "_model_name": "HTMLModel",
            "_view_count": null,
            "_view_module": "@jupyter-widgets/controls",
            "_view_module_version": "1.5.0",
            "_view_name": "HTMLView",
            "description": "",
            "description_tooltip": null,
            "layout": "IPY_MODEL_e075afa998a94e8897e56da1f03ef6e3",
            "placeholder": "​",
            "style": "IPY_MODEL_590aecdb224d47bfa4b69293b29fe782",
            "value": " 232k/232k [00:00&lt;00:00, 264kB/s]"
          }
        },
        "28b2a86ce1a043d0ba5c433bd1732884": {
          "model_module": "@jupyter-widgets/controls",
          "model_module_version": "1.5.0",
          "model_name": "ProgressStyleModel",
          "state": {
            "_model_module": "@jupyter-widgets/controls",
            "_model_module_version": "1.5.0",
            "_model_name": "ProgressStyleModel",
            "_view_count": null,
            "_view_module": "@jupyter-widgets/base",
            "_view_module_version": "1.2.0",
            "_view_name": "StyleView",
            "bar_color": null,
            "description_width": ""
          }
        },
        "2cf75a45afaa417689276b00ccf389a0": {
          "model_module": "@jupyter-widgets/base",
          "model_module_version": "1.2.0",
          "model_name": "LayoutModel",
          "state": {
            "_model_module": "@jupyter-widgets/base",
            "_model_module_version": "1.2.0",
            "_model_name": "LayoutModel",
            "_view_count": null,
            "_view_module": "@jupyter-widgets/base",
            "_view_module_version": "1.2.0",
            "_view_name": "LayoutView",
            "align_content": null,
            "align_items": null,
            "align_self": null,
            "border": null,
            "bottom": null,
            "display": null,
            "flex": null,
            "flex_flow": null,
            "grid_area": null,
            "grid_auto_columns": null,
            "grid_auto_flow": null,
            "grid_auto_rows": null,
            "grid_column": null,
            "grid_gap": null,
            "grid_row": null,
            "grid_template_areas": null,
            "grid_template_columns": null,
            "grid_template_rows": null,
            "height": null,
            "justify_content": null,
            "justify_items": null,
            "left": null,
            "margin": null,
            "max_height": null,
            "max_width": null,
            "min_height": null,
            "min_width": null,
            "object_fit": null,
            "object_position": null,
            "order": null,
            "overflow": null,
            "overflow_x": null,
            "overflow_y": null,
            "padding": null,
            "right": null,
            "top": null,
            "visibility": null,
            "width": null
          }
        },
        "2dd733b060ce4a2e8c8a3839ff6b320e": {
          "model_module": "@jupyter-widgets/controls",
          "model_module_version": "1.5.0",
          "model_name": "DescriptionStyleModel",
          "state": {
            "_model_module": "@jupyter-widgets/controls",
            "_model_module_version": "1.5.0",
            "_model_name": "DescriptionStyleModel",
            "_view_count": null,
            "_view_module": "@jupyter-widgets/base",
            "_view_module_version": "1.2.0",
            "_view_name": "StyleView",
            "description_width": ""
          }
        },
        "2f48ad3372944b8bb041dbc1f7ca250c": {
          "model_module": "@jupyter-widgets/base",
          "model_module_version": "1.2.0",
          "model_name": "LayoutModel",
          "state": {
            "_model_module": "@jupyter-widgets/base",
            "_model_module_version": "1.2.0",
            "_model_name": "LayoutModel",
            "_view_count": null,
            "_view_module": "@jupyter-widgets/base",
            "_view_module_version": "1.2.0",
            "_view_name": "LayoutView",
            "align_content": null,
            "align_items": null,
            "align_self": null,
            "border": null,
            "bottom": null,
            "display": null,
            "flex": null,
            "flex_flow": null,
            "grid_area": null,
            "grid_auto_columns": null,
            "grid_auto_flow": null,
            "grid_auto_rows": null,
            "grid_column": null,
            "grid_gap": null,
            "grid_row": null,
            "grid_template_areas": null,
            "grid_template_columns": null,
            "grid_template_rows": null,
            "height": null,
            "justify_content": null,
            "justify_items": null,
            "left": null,
            "margin": null,
            "max_height": null,
            "max_width": null,
            "min_height": null,
            "min_width": null,
            "object_fit": null,
            "object_position": null,
            "order": null,
            "overflow": null,
            "overflow_x": null,
            "overflow_y": null,
            "padding": null,
            "right": null,
            "top": null,
            "visibility": null,
            "width": null
          }
        },
        "2f62a94126fd4d91a2665b99fe1f3d40": {
          "model_module": "@jupyter-widgets/controls",
          "model_module_version": "1.5.0",
          "model_name": "FloatProgressModel",
          "state": {
            "_dom_classes": [],
            "_model_module": "@jupyter-widgets/controls",
            "_model_module_version": "1.5.0",
            "_model_name": "FloatProgressModel",
            "_view_count": null,
            "_view_module": "@jupyter-widgets/controls",
            "_view_module_version": "1.5.0",
            "_view_name": "ProgressView",
            "bar_style": "success",
            "description": "",
            "description_tooltip": null,
            "layout": "IPY_MODEL_6f5674af1a7047ffa74964aa29dc4e00",
            "max": 28,
            "min": 0,
            "orientation": "horizontal",
            "style": "IPY_MODEL_6f25221c5a16415da5f6a4bbc9accce1",
            "value": 28
          }
        },
        "338ebbb8239440719ff213066bc9a961": {
          "model_module": "@jupyter-widgets/controls",
          "model_module_version": "1.5.0",
          "model_name": "HTMLModel",
          "state": {
            "_dom_classes": [],
            "_model_module": "@jupyter-widgets/controls",
            "_model_module_version": "1.5.0",
            "_model_name": "HTMLModel",
            "_view_count": null,
            "_view_module": "@jupyter-widgets/controls",
            "_view_module_version": "1.5.0",
            "_view_name": "HTMLView",
            "description": "",
            "description_tooltip": null,
            "layout": "IPY_MODEL_c8e0a77943aa4a62aa12c4e4fced754c",
            "placeholder": "​",
            "style": "IPY_MODEL_d3dc26644c884cdab8cc0717a459f4b8",
            "value": "Downloading: 100%"
          }
        },
        "3d17ba88998040e6b4b132c321e8feb9": {
          "model_module": "@jupyter-widgets/controls",
          "model_module_version": "1.5.0",
          "model_name": "HTMLModel",
          "state": {
            "_dom_classes": [],
            "_model_module": "@jupyter-widgets/controls",
            "_model_module_version": "1.5.0",
            "_model_name": "HTMLModel",
            "_view_count": null,
            "_view_module": "@jupyter-widgets/controls",
            "_view_module_version": "1.5.0",
            "_view_name": "HTMLView",
            "description": "",
            "description_tooltip": null,
            "layout": "IPY_MODEL_cdcb896794d04679997304d377aa4ae8",
            "placeholder": "​",
            "style": "IPY_MODEL_f8d21d360fb34cc8b7b81586675ccce0",
            "value": " 483/483 [00:00&lt;00:00, 5.49kB/s]"
          }
        },
        "4965eb242adc4347bb4d7d301b05708b": {
          "model_module": "@jupyter-widgets/base",
          "model_module_version": "1.2.0",
          "model_name": "LayoutModel",
          "state": {
            "_model_module": "@jupyter-widgets/base",
            "_model_module_version": "1.2.0",
            "_model_name": "LayoutModel",
            "_view_count": null,
            "_view_module": "@jupyter-widgets/base",
            "_view_module_version": "1.2.0",
            "_view_name": "LayoutView",
            "align_content": null,
            "align_items": null,
            "align_self": null,
            "border": null,
            "bottom": null,
            "display": null,
            "flex": null,
            "flex_flow": null,
            "grid_area": null,
            "grid_auto_columns": null,
            "grid_auto_flow": null,
            "grid_auto_rows": null,
            "grid_column": null,
            "grid_gap": null,
            "grid_row": null,
            "grid_template_areas": null,
            "grid_template_columns": null,
            "grid_template_rows": null,
            "height": null,
            "justify_content": null,
            "justify_items": null,
            "left": null,
            "margin": null,
            "max_height": null,
            "max_width": null,
            "min_height": null,
            "min_width": null,
            "object_fit": null,
            "object_position": null,
            "order": null,
            "overflow": null,
            "overflow_x": null,
            "overflow_y": null,
            "padding": null,
            "right": null,
            "top": null,
            "visibility": null,
            "width": null
          }
        },
        "511372db2b514d46ae6d0771c6fae4c9": {
          "model_module": "@jupyter-widgets/base",
          "model_module_version": "1.2.0",
          "model_name": "LayoutModel",
          "state": {
            "_model_module": "@jupyter-widgets/base",
            "_model_module_version": "1.2.0",
            "_model_name": "LayoutModel",
            "_view_count": null,
            "_view_module": "@jupyter-widgets/base",
            "_view_module_version": "1.2.0",
            "_view_name": "LayoutView",
            "align_content": null,
            "align_items": null,
            "align_self": null,
            "border": null,
            "bottom": null,
            "display": null,
            "flex": null,
            "flex_flow": null,
            "grid_area": null,
            "grid_auto_columns": null,
            "grid_auto_flow": null,
            "grid_auto_rows": null,
            "grid_column": null,
            "grid_gap": null,
            "grid_row": null,
            "grid_template_areas": null,
            "grid_template_columns": null,
            "grid_template_rows": null,
            "height": null,
            "justify_content": null,
            "justify_items": null,
            "left": null,
            "margin": null,
            "max_height": null,
            "max_width": null,
            "min_height": null,
            "min_width": null,
            "object_fit": null,
            "object_position": null,
            "order": null,
            "overflow": null,
            "overflow_x": null,
            "overflow_y": null,
            "padding": null,
            "right": null,
            "top": null,
            "visibility": null,
            "width": null
          }
        },
        "53a654d0c0d84165a2a28315e926e56e": {
          "model_module": "@jupyter-widgets/controls",
          "model_module_version": "1.5.0",
          "model_name": "DescriptionStyleModel",
          "state": {
            "_model_module": "@jupyter-widgets/controls",
            "_model_module_version": "1.5.0",
            "_model_name": "DescriptionStyleModel",
            "_view_count": null,
            "_view_module": "@jupyter-widgets/base",
            "_view_module_version": "1.2.0",
            "_view_name": "StyleView",
            "description_width": ""
          }
        },
        "54f99b6a8016457a96f1eb700046d6bd": {
          "model_module": "@jupyter-widgets/base",
          "model_module_version": "1.2.0",
          "model_name": "LayoutModel",
          "state": {
            "_model_module": "@jupyter-widgets/base",
            "_model_module_version": "1.2.0",
            "_model_name": "LayoutModel",
            "_view_count": null,
            "_view_module": "@jupyter-widgets/base",
            "_view_module_version": "1.2.0",
            "_view_name": "LayoutView",
            "align_content": null,
            "align_items": null,
            "align_self": null,
            "border": null,
            "bottom": null,
            "display": null,
            "flex": null,
            "flex_flow": null,
            "grid_area": null,
            "grid_auto_columns": null,
            "grid_auto_flow": null,
            "grid_auto_rows": null,
            "grid_column": null,
            "grid_gap": null,
            "grid_row": null,
            "grid_template_areas": null,
            "grid_template_columns": null,
            "grid_template_rows": null,
            "height": null,
            "justify_content": null,
            "justify_items": null,
            "left": null,
            "margin": null,
            "max_height": null,
            "max_width": null,
            "min_height": null,
            "min_width": null,
            "object_fit": null,
            "object_position": null,
            "order": null,
            "overflow": null,
            "overflow_x": null,
            "overflow_y": null,
            "padding": null,
            "right": null,
            "top": null,
            "visibility": null,
            "width": null
          }
        },
        "590aecdb224d47bfa4b69293b29fe782": {
          "model_module": "@jupyter-widgets/controls",
          "model_module_version": "1.5.0",
          "model_name": "DescriptionStyleModel",
          "state": {
            "_model_module": "@jupyter-widgets/controls",
            "_model_module_version": "1.5.0",
            "_model_name": "DescriptionStyleModel",
            "_view_count": null,
            "_view_module": "@jupyter-widgets/base",
            "_view_module_version": "1.2.0",
            "_view_name": "StyleView",
            "description_width": ""
          }
        },
        "640297f85c804e9684855bc06d408fc3": {
          "model_module": "@jupyter-widgets/controls",
          "model_module_version": "1.5.0",
          "model_name": "HTMLModel",
          "state": {
            "_dom_classes": [],
            "_model_module": "@jupyter-widgets/controls",
            "_model_module_version": "1.5.0",
            "_model_name": "HTMLModel",
            "_view_count": null,
            "_view_module": "@jupyter-widgets/controls",
            "_view_module_version": "1.5.0",
            "_view_name": "HTMLView",
            "description": "",
            "description_tooltip": null,
            "layout": "IPY_MODEL_adf4ee3d62b4441a9b2d06c5abc95d7d",
            "placeholder": "​",
            "style": "IPY_MODEL_ca3122b965a8430c8ed833846759b3d5",
            "value": "Downloading: 100%"
          }
        },
        "660b1c3dbb3b432d9ce5d5d21970b01e": {
          "model_module": "@jupyter-widgets/base",
          "model_module_version": "1.2.0",
          "model_name": "LayoutModel",
          "state": {
            "_model_module": "@jupyter-widgets/base",
            "_model_module_version": "1.2.0",
            "_model_name": "LayoutModel",
            "_view_count": null,
            "_view_module": "@jupyter-widgets/base",
            "_view_module_version": "1.2.0",
            "_view_name": "LayoutView",
            "align_content": null,
            "align_items": null,
            "align_self": null,
            "border": null,
            "bottom": null,
            "display": null,
            "flex": null,
            "flex_flow": null,
            "grid_area": null,
            "grid_auto_columns": null,
            "grid_auto_flow": null,
            "grid_auto_rows": null,
            "grid_column": null,
            "grid_gap": null,
            "grid_row": null,
            "grid_template_areas": null,
            "grid_template_columns": null,
            "grid_template_rows": null,
            "height": null,
            "justify_content": null,
            "justify_items": null,
            "left": null,
            "margin": null,
            "max_height": null,
            "max_width": null,
            "min_height": null,
            "min_width": null,
            "object_fit": null,
            "object_position": null,
            "order": null,
            "overflow": null,
            "overflow_x": null,
            "overflow_y": null,
            "padding": null,
            "right": null,
            "top": null,
            "visibility": null,
            "width": null
          }
        },
        "69abe26b2a954afdba2d5f2b863cb609": {
          "model_module": "@jupyter-widgets/controls",
          "model_module_version": "1.5.0",
          "model_name": "HBoxModel",
          "state": {
            "_dom_classes": [],
            "_model_module": "@jupyter-widgets/controls",
            "_model_module_version": "1.5.0",
            "_model_name": "HBoxModel",
            "_view_count": null,
            "_view_module": "@jupyter-widgets/controls",
            "_view_module_version": "1.5.0",
            "_view_name": "HBoxView",
            "box_style": "",
            "children": [
              "IPY_MODEL_cf1648363f0f4777b6c24c6a9a7f81f1",
              "IPY_MODEL_2f62a94126fd4d91a2665b99fe1f3d40",
              "IPY_MODEL_bc31caafb3c949a7b4452a44b84d12be"
            ],
            "layout": "IPY_MODEL_2cf75a45afaa417689276b00ccf389a0"
          }
        },
        "6f25221c5a16415da5f6a4bbc9accce1": {
          "model_module": "@jupyter-widgets/controls",
          "model_module_version": "1.5.0",
          "model_name": "ProgressStyleModel",
          "state": {
            "_model_module": "@jupyter-widgets/controls",
            "_model_module_version": "1.5.0",
            "_model_name": "ProgressStyleModel",
            "_view_count": null,
            "_view_module": "@jupyter-widgets/base",
            "_view_module_version": "1.2.0",
            "_view_name": "StyleView",
            "bar_color": null,
            "description_width": ""
          }
        },
        "6f5674af1a7047ffa74964aa29dc4e00": {
          "model_module": "@jupyter-widgets/base",
          "model_module_version": "1.2.0",
          "model_name": "LayoutModel",
          "state": {
            "_model_module": "@jupyter-widgets/base",
            "_model_module_version": "1.2.0",
            "_model_name": "LayoutModel",
            "_view_count": null,
            "_view_module": "@jupyter-widgets/base",
            "_view_module_version": "1.2.0",
            "_view_name": "LayoutView",
            "align_content": null,
            "align_items": null,
            "align_self": null,
            "border": null,
            "bottom": null,
            "display": null,
            "flex": null,
            "flex_flow": null,
            "grid_area": null,
            "grid_auto_columns": null,
            "grid_auto_flow": null,
            "grid_auto_rows": null,
            "grid_column": null,
            "grid_gap": null,
            "grid_row": null,
            "grid_template_areas": null,
            "grid_template_columns": null,
            "grid_template_rows": null,
            "height": null,
            "justify_content": null,
            "justify_items": null,
            "left": null,
            "margin": null,
            "max_height": null,
            "max_width": null,
            "min_height": null,
            "min_width": null,
            "object_fit": null,
            "object_position": null,
            "order": null,
            "overflow": null,
            "overflow_x": null,
            "overflow_y": null,
            "padding": null,
            "right": null,
            "top": null,
            "visibility": null,
            "width": null
          }
        },
        "75844b93efb14d8c97c1fce516173625": {
          "model_module": "@jupyter-widgets/base",
          "model_module_version": "1.2.0",
          "model_name": "LayoutModel",
          "state": {
            "_model_module": "@jupyter-widgets/base",
            "_model_module_version": "1.2.0",
            "_model_name": "LayoutModel",
            "_view_count": null,
            "_view_module": "@jupyter-widgets/base",
            "_view_module_version": "1.2.0",
            "_view_name": "LayoutView",
            "align_content": null,
            "align_items": null,
            "align_self": null,
            "border": null,
            "bottom": null,
            "display": null,
            "flex": null,
            "flex_flow": null,
            "grid_area": null,
            "grid_auto_columns": null,
            "grid_auto_flow": null,
            "grid_auto_rows": null,
            "grid_column": null,
            "grid_gap": null,
            "grid_row": null,
            "grid_template_areas": null,
            "grid_template_columns": null,
            "grid_template_rows": null,
            "height": null,
            "justify_content": null,
            "justify_items": null,
            "left": null,
            "margin": null,
            "max_height": null,
            "max_width": null,
            "min_height": null,
            "min_width": null,
            "object_fit": null,
            "object_position": null,
            "order": null,
            "overflow": null,
            "overflow_x": null,
            "overflow_y": null,
            "padding": null,
            "right": null,
            "top": null,
            "visibility": null,
            "width": null
          }
        },
        "758cd4f3bf25415480f70b4be1903e17": {
          "model_module": "@jupyter-widgets/base",
          "model_module_version": "1.2.0",
          "model_name": "LayoutModel",
          "state": {
            "_model_module": "@jupyter-widgets/base",
            "_model_module_version": "1.2.0",
            "_model_name": "LayoutModel",
            "_view_count": null,
            "_view_module": "@jupyter-widgets/base",
            "_view_module_version": "1.2.0",
            "_view_name": "LayoutView",
            "align_content": null,
            "align_items": null,
            "align_self": null,
            "border": null,
            "bottom": null,
            "display": null,
            "flex": null,
            "flex_flow": null,
            "grid_area": null,
            "grid_auto_columns": null,
            "grid_auto_flow": null,
            "grid_auto_rows": null,
            "grid_column": null,
            "grid_gap": null,
            "grid_row": null,
            "grid_template_areas": null,
            "grid_template_columns": null,
            "grid_template_rows": null,
            "height": null,
            "justify_content": null,
            "justify_items": null,
            "left": null,
            "margin": null,
            "max_height": null,
            "max_width": null,
            "min_height": null,
            "min_width": null,
            "object_fit": null,
            "object_position": null,
            "order": null,
            "overflow": null,
            "overflow_x": null,
            "overflow_y": null,
            "padding": null,
            "right": null,
            "top": null,
            "visibility": null,
            "width": null
          }
        },
        "9268954b554e4549baacb55dd7b77d03": {
          "model_module": "@jupyter-widgets/controls",
          "model_module_version": "1.5.0",
          "model_name": "HTMLModel",
          "state": {
            "_dom_classes": [],
            "_model_module": "@jupyter-widgets/controls",
            "_model_module_version": "1.5.0",
            "_model_name": "HTMLModel",
            "_view_count": null,
            "_view_module": "@jupyter-widgets/controls",
            "_view_module_version": "1.5.0",
            "_view_name": "HTMLView",
            "description": "",
            "description_tooltip": null,
            "layout": "IPY_MODEL_f1cbc86e7a114cc5ae8e25a3578a240d",
            "placeholder": "​",
            "style": "IPY_MODEL_d9381b90a043437e8c5ddfc429a479ec",
            "value": "Downloading: 100%"
          }
        },
        "93ae1bdf948b4fc9b9e80fc51429d063": {
          "model_module": "@jupyter-widgets/controls",
          "model_module_version": "1.5.0",
          "model_name": "ProgressStyleModel",
          "state": {
            "_model_module": "@jupyter-widgets/controls",
            "_model_module_version": "1.5.0",
            "_model_name": "ProgressStyleModel",
            "_view_count": null,
            "_view_module": "@jupyter-widgets/base",
            "_view_module_version": "1.2.0",
            "_view_name": "StyleView",
            "bar_color": null,
            "description_width": ""
          }
        },
        "9f079c6aaaef44ecb335f4e424308876": {
          "model_module": "@jupyter-widgets/controls",
          "model_module_version": "1.5.0",
          "model_name": "DescriptionStyleModel",
          "state": {
            "_model_module": "@jupyter-widgets/controls",
            "_model_module_version": "1.5.0",
            "_model_name": "DescriptionStyleModel",
            "_view_count": null,
            "_view_module": "@jupyter-widgets/base",
            "_view_module_version": "1.2.0",
            "_view_name": "StyleView",
            "description_width": ""
          }
        },
        "adf4ee3d62b4441a9b2d06c5abc95d7d": {
          "model_module": "@jupyter-widgets/base",
          "model_module_version": "1.2.0",
          "model_name": "LayoutModel",
          "state": {
            "_model_module": "@jupyter-widgets/base",
            "_model_module_version": "1.2.0",
            "_model_name": "LayoutModel",
            "_view_count": null,
            "_view_module": "@jupyter-widgets/base",
            "_view_module_version": "1.2.0",
            "_view_name": "LayoutView",
            "align_content": null,
            "align_items": null,
            "align_self": null,
            "border": null,
            "bottom": null,
            "display": null,
            "flex": null,
            "flex_flow": null,
            "grid_area": null,
            "grid_auto_columns": null,
            "grid_auto_flow": null,
            "grid_auto_rows": null,
            "grid_column": null,
            "grid_gap": null,
            "grid_row": null,
            "grid_template_areas": null,
            "grid_template_columns": null,
            "grid_template_rows": null,
            "height": null,
            "justify_content": null,
            "justify_items": null,
            "left": null,
            "margin": null,
            "max_height": null,
            "max_width": null,
            "min_height": null,
            "min_width": null,
            "object_fit": null,
            "object_position": null,
            "order": null,
            "overflow": null,
            "overflow_x": null,
            "overflow_y": null,
            "padding": null,
            "right": null,
            "top": null,
            "visibility": null,
            "width": null
          }
        },
        "bc31caafb3c949a7b4452a44b84d12be": {
          "model_module": "@jupyter-widgets/controls",
          "model_module_version": "1.5.0",
          "model_name": "HTMLModel",
          "state": {
            "_dom_classes": [],
            "_model_module": "@jupyter-widgets/controls",
            "_model_module_version": "1.5.0",
            "_model_name": "HTMLModel",
            "_view_count": null,
            "_view_module": "@jupyter-widgets/controls",
            "_view_module_version": "1.5.0",
            "_view_name": "HTMLView",
            "description": "",
            "description_tooltip": null,
            "layout": "IPY_MODEL_660b1c3dbb3b432d9ce5d5d21970b01e",
            "placeholder": "​",
            "style": "IPY_MODEL_2dd733b060ce4a2e8c8a3839ff6b320e",
            "value": " 28.0/28.0 [00:00&lt;00:00, 912B/s]"
          }
        },
        "c1cc3bc6739948bda1a5990dab334aa3": {
          "model_module": "@jupyter-widgets/controls",
          "model_module_version": "1.5.0",
          "model_name": "FloatProgressModel",
          "state": {
            "_dom_classes": [],
            "_model_module": "@jupyter-widgets/controls",
            "_model_module_version": "1.5.0",
            "_model_name": "FloatProgressModel",
            "_view_count": null,
            "_view_module": "@jupyter-widgets/controls",
            "_view_module_version": "1.5.0",
            "_view_name": "ProgressView",
            "bar_style": "success",
            "description": "",
            "description_tooltip": null,
            "layout": "IPY_MODEL_4965eb242adc4347bb4d7d301b05708b",
            "max": 231508,
            "min": 0,
            "orientation": "horizontal",
            "style": "IPY_MODEL_d81acb800ebc4c64b0d14966db0ce238",
            "value": 231508
          }
        },
        "c6b3de87a1484ee088ec2d4ea9e238d0": {
          "model_module": "@jupyter-widgets/controls",
          "model_module_version": "1.5.0",
          "model_name": "HTMLModel",
          "state": {
            "_dom_classes": [],
            "_model_module": "@jupyter-widgets/controls",
            "_model_module_version": "1.5.0",
            "_model_name": "HTMLModel",
            "_view_count": null,
            "_view_module": "@jupyter-widgets/controls",
            "_view_module_version": "1.5.0",
            "_view_name": "HTMLView",
            "description": "",
            "description_tooltip": null,
            "layout": "IPY_MODEL_758cd4f3bf25415480f70b4be1903e17",
            "placeholder": "​",
            "style": "IPY_MODEL_9f079c6aaaef44ecb335f4e424308876",
            "value": " 466k/466k [00:01&lt;00:00, 522kB/s]"
          }
        },
        "c8e0a77943aa4a62aa12c4e4fced754c": {
          "model_module": "@jupyter-widgets/base",
          "model_module_version": "1.2.0",
          "model_name": "LayoutModel",
          "state": {
            "_model_module": "@jupyter-widgets/base",
            "_model_module_version": "1.2.0",
            "_model_name": "LayoutModel",
            "_view_count": null,
            "_view_module": "@jupyter-widgets/base",
            "_view_module_version": "1.2.0",
            "_view_name": "LayoutView",
            "align_content": null,
            "align_items": null,
            "align_self": null,
            "border": null,
            "bottom": null,
            "display": null,
            "flex": null,
            "flex_flow": null,
            "grid_area": null,
            "grid_auto_columns": null,
            "grid_auto_flow": null,
            "grid_auto_rows": null,
            "grid_column": null,
            "grid_gap": null,
            "grid_row": null,
            "grid_template_areas": null,
            "grid_template_columns": null,
            "grid_template_rows": null,
            "height": null,
            "justify_content": null,
            "justify_items": null,
            "left": null,
            "margin": null,
            "max_height": null,
            "max_width": null,
            "min_height": null,
            "min_width": null,
            "object_fit": null,
            "object_position": null,
            "order": null,
            "overflow": null,
            "overflow_x": null,
            "overflow_y": null,
            "padding": null,
            "right": null,
            "top": null,
            "visibility": null,
            "width": null
          }
        },
        "ca3122b965a8430c8ed833846759b3d5": {
          "model_module": "@jupyter-widgets/controls",
          "model_module_version": "1.5.0",
          "model_name": "DescriptionStyleModel",
          "state": {
            "_model_module": "@jupyter-widgets/controls",
            "_model_module_version": "1.5.0",
            "_model_name": "DescriptionStyleModel",
            "_view_count": null,
            "_view_module": "@jupyter-widgets/base",
            "_view_module_version": "1.2.0",
            "_view_name": "StyleView",
            "description_width": ""
          }
        },
        "cdcb896794d04679997304d377aa4ae8": {
          "model_module": "@jupyter-widgets/base",
          "model_module_version": "1.2.0",
          "model_name": "LayoutModel",
          "state": {
            "_model_module": "@jupyter-widgets/base",
            "_model_module_version": "1.2.0",
            "_model_name": "LayoutModel",
            "_view_count": null,
            "_view_module": "@jupyter-widgets/base",
            "_view_module_version": "1.2.0",
            "_view_name": "LayoutView",
            "align_content": null,
            "align_items": null,
            "align_self": null,
            "border": null,
            "bottom": null,
            "display": null,
            "flex": null,
            "flex_flow": null,
            "grid_area": null,
            "grid_auto_columns": null,
            "grid_auto_flow": null,
            "grid_auto_rows": null,
            "grid_column": null,
            "grid_gap": null,
            "grid_row": null,
            "grid_template_areas": null,
            "grid_template_columns": null,
            "grid_template_rows": null,
            "height": null,
            "justify_content": null,
            "justify_items": null,
            "left": null,
            "margin": null,
            "max_height": null,
            "max_width": null,
            "min_height": null,
            "min_width": null,
            "object_fit": null,
            "object_position": null,
            "order": null,
            "overflow": null,
            "overflow_x": null,
            "overflow_y": null,
            "padding": null,
            "right": null,
            "top": null,
            "visibility": null,
            "width": null
          }
        },
        "cf1648363f0f4777b6c24c6a9a7f81f1": {
          "model_module": "@jupyter-widgets/controls",
          "model_module_version": "1.5.0",
          "model_name": "HTMLModel",
          "state": {
            "_dom_classes": [],
            "_model_module": "@jupyter-widgets/controls",
            "_model_module_version": "1.5.0",
            "_model_name": "HTMLModel",
            "_view_count": null,
            "_view_module": "@jupyter-widgets/controls",
            "_view_module_version": "1.5.0",
            "_view_name": "HTMLView",
            "description": "",
            "description_tooltip": null,
            "layout": "IPY_MODEL_54f99b6a8016457a96f1eb700046d6bd",
            "placeholder": "​",
            "style": "IPY_MODEL_53a654d0c0d84165a2a28315e926e56e",
            "value": "Downloading: 100%"
          }
        },
        "d3dc26644c884cdab8cc0717a459f4b8": {
          "model_module": "@jupyter-widgets/controls",
          "model_module_version": "1.5.0",
          "model_name": "DescriptionStyleModel",
          "state": {
            "_model_module": "@jupyter-widgets/controls",
            "_model_module_version": "1.5.0",
            "_model_name": "DescriptionStyleModel",
            "_view_count": null,
            "_view_module": "@jupyter-widgets/base",
            "_view_module_version": "1.2.0",
            "_view_name": "StyleView",
            "description_width": ""
          }
        },
        "d81acb800ebc4c64b0d14966db0ce238": {
          "model_module": "@jupyter-widgets/controls",
          "model_module_version": "1.5.0",
          "model_name": "ProgressStyleModel",
          "state": {
            "_model_module": "@jupyter-widgets/controls",
            "_model_module_version": "1.5.0",
            "_model_name": "ProgressStyleModel",
            "_view_count": null,
            "_view_module": "@jupyter-widgets/base",
            "_view_module_version": "1.2.0",
            "_view_name": "StyleView",
            "bar_color": null,
            "description_width": ""
          }
        },
        "d9381b90a043437e8c5ddfc429a479ec": {
          "model_module": "@jupyter-widgets/controls",
          "model_module_version": "1.5.0",
          "model_name": "DescriptionStyleModel",
          "state": {
            "_model_module": "@jupyter-widgets/controls",
            "_model_module_version": "1.5.0",
            "_model_name": "DescriptionStyleModel",
            "_view_count": null,
            "_view_module": "@jupyter-widgets/base",
            "_view_module_version": "1.2.0",
            "_view_name": "StyleView",
            "description_width": ""
          }
        },
        "e075afa998a94e8897e56da1f03ef6e3": {
          "model_module": "@jupyter-widgets/base",
          "model_module_version": "1.2.0",
          "model_name": "LayoutModel",
          "state": {
            "_model_module": "@jupyter-widgets/base",
            "_model_module_version": "1.2.0",
            "_model_name": "LayoutModel",
            "_view_count": null,
            "_view_module": "@jupyter-widgets/base",
            "_view_module_version": "1.2.0",
            "_view_name": "LayoutView",
            "align_content": null,
            "align_items": null,
            "align_self": null,
            "border": null,
            "bottom": null,
            "display": null,
            "flex": null,
            "flex_flow": null,
            "grid_area": null,
            "grid_auto_columns": null,
            "grid_auto_flow": null,
            "grid_auto_rows": null,
            "grid_column": null,
            "grid_gap": null,
            "grid_row": null,
            "grid_template_areas": null,
            "grid_template_columns": null,
            "grid_template_rows": null,
            "height": null,
            "justify_content": null,
            "justify_items": null,
            "left": null,
            "margin": null,
            "max_height": null,
            "max_width": null,
            "min_height": null,
            "min_width": null,
            "object_fit": null,
            "object_position": null,
            "order": null,
            "overflow": null,
            "overflow_x": null,
            "overflow_y": null,
            "padding": null,
            "right": null,
            "top": null,
            "visibility": null,
            "width": null
          }
        },
        "f1cbc86e7a114cc5ae8e25a3578a240d": {
          "model_module": "@jupyter-widgets/base",
          "model_module_version": "1.2.0",
          "model_name": "LayoutModel",
          "state": {
            "_model_module": "@jupyter-widgets/base",
            "_model_module_version": "1.2.0",
            "_model_name": "LayoutModel",
            "_view_count": null,
            "_view_module": "@jupyter-widgets/base",
            "_view_module_version": "1.2.0",
            "_view_name": "LayoutView",
            "align_content": null,
            "align_items": null,
            "align_self": null,
            "border": null,
            "bottom": null,
            "display": null,
            "flex": null,
            "flex_flow": null,
            "grid_area": null,
            "grid_auto_columns": null,
            "grid_auto_flow": null,
            "grid_auto_rows": null,
            "grid_column": null,
            "grid_gap": null,
            "grid_row": null,
            "grid_template_areas": null,
            "grid_template_columns": null,
            "grid_template_rows": null,
            "height": null,
            "justify_content": null,
            "justify_items": null,
            "left": null,
            "margin": null,
            "max_height": null,
            "max_width": null,
            "min_height": null,
            "min_width": null,
            "object_fit": null,
            "object_position": null,
            "order": null,
            "overflow": null,
            "overflow_x": null,
            "overflow_y": null,
            "padding": null,
            "right": null,
            "top": null,
            "visibility": null,
            "width": null
          }
        },
        "f8d21d360fb34cc8b7b81586675ccce0": {
          "model_module": "@jupyter-widgets/controls",
          "model_module_version": "1.5.0",
          "model_name": "DescriptionStyleModel",
          "state": {
            "_model_module": "@jupyter-widgets/controls",
            "_model_module_version": "1.5.0",
            "_model_name": "DescriptionStyleModel",
            "_view_count": null,
            "_view_module": "@jupyter-widgets/base",
            "_view_module_version": "1.2.0",
            "_view_name": "StyleView",
            "description_width": ""
          }
        },
        "f92e8a6e7b34480b9bbcbb3709b7014e": {
          "model_module": "@jupyter-widgets/controls",
          "model_module_version": "1.5.0",
          "model_name": "HBoxModel",
          "state": {
            "_dom_classes": [],
            "_model_module": "@jupyter-widgets/controls",
            "_model_module_version": "1.5.0",
            "_model_name": "HBoxModel",
            "_view_count": null,
            "_view_module": "@jupyter-widgets/controls",
            "_view_module_version": "1.5.0",
            "_view_name": "HBoxView",
            "box_style": "",
            "children": [
              "IPY_MODEL_338ebbb8239440719ff213066bc9a961",
              "IPY_MODEL_1bb55ec871f94469b43f957aa189a6db",
              "IPY_MODEL_c6b3de87a1484ee088ec2d4ea9e238d0"
            ],
            "layout": "IPY_MODEL_08c2103fb1d6419b80106cd73fd02e10"
          }
        },
        "fc8d1a46ba8d4032b8f019c762c41613": {
          "model_module": "@jupyter-widgets/base",
          "model_module_version": "1.2.0",
          "model_name": "LayoutModel",
          "state": {
            "_model_module": "@jupyter-widgets/base",
            "_model_module_version": "1.2.0",
            "_model_name": "LayoutModel",
            "_view_count": null,
            "_view_module": "@jupyter-widgets/base",
            "_view_module_version": "1.2.0",
            "_view_name": "LayoutView",
            "align_content": null,
            "align_items": null,
            "align_self": null,
            "border": null,
            "bottom": null,
            "display": null,
            "flex": null,
            "flex_flow": null,
            "grid_area": null,
            "grid_auto_columns": null,
            "grid_auto_flow": null,
            "grid_auto_rows": null,
            "grid_column": null,
            "grid_gap": null,
            "grid_row": null,
            "grid_template_areas": null,
            "grid_template_columns": null,
            "grid_template_rows": null,
            "height": null,
            "justify_content": null,
            "justify_items": null,
            "left": null,
            "margin": null,
            "max_height": null,
            "max_width": null,
            "min_height": null,
            "min_width": null,
            "object_fit": null,
            "object_position": null,
            "order": null,
            "overflow": null,
            "overflow_x": null,
            "overflow_y": null,
            "padding": null,
            "right": null,
            "top": null,
            "visibility": null,
            "width": null
          }
        }
      }
    }
  },
  "nbformat": 4,
  "nbformat_minor": 0
}